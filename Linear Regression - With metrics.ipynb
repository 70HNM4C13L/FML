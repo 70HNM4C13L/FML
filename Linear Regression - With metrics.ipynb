{
 "cells": [
  {
   "cell_type": "markdown",
   "id": "3d5700e0",
   "metadata": {},
   "source": [
    "## 0 Import Libraries"
   ]
  },
  {
   "cell_type": "code",
   "execution_count": 2,
   "id": "140c2d85",
   "metadata": {
    "ExecuteTime": {
     "end_time": "2023-07-31T15:02:32.845678Z",
     "start_time": "2023-07-31T15:02:32.842257Z"
    }
   },
   "outputs": [],
   "source": [
    "import pandas as pd\n",
    "from sklearn.linear_model import LinearRegression\n",
    "import numpy as np\n",
    "from sklearn import metrics as mt\n",
    "import statsmodels.api as sm\n",
    "import statsmodels.formula.api as smf"
   ]
  },
  {
   "cell_type": "markdown",
   "id": "c51385ed",
   "metadata": {
    "ExecuteTime": {
     "end_time": "2023-03-03T12:58:01.510243Z",
     "start_time": "2023-03-03T12:58:01.506155Z"
    }
   },
   "source": [
    "### 0.1 Functions"
   ]
  },
  {
   "cell_type": "code",
   "execution_count": 3,
   "id": "edc7aaa8",
   "metadata": {
    "ExecuteTime": {
     "end_time": "2023-07-31T15:02:32.853025Z",
     "start_time": "2023-07-31T15:02:32.848076Z"
    }
   },
   "outputs": [],
   "source": [
    "def train (x_train,y_train):\n",
    "    #model definition\n",
    "    lr_model = LinearRegression()\n",
    "    #model fit\n",
    "    lr_model.fit(x_train, y_train)\n",
    "    #predict\n",
    "    y_pred = lr_model.predict(x_train)\n",
    "    \n",
    "    return y_pred\n",
    "\n",
    "def simulation_outliers(outliers):\n",
    "    y_train2 = y_train.copy()\n",
    "    count = 0\n",
    "    r2_score = []\n",
    "    mse_score = []\n",
    "    rmse_score = []\n",
    "    \n",
    "    \n",
    "    for i in outliers:\n",
    "        y_train2.iloc[count:int(len(y_train2)*i),:] = (lambda x : x*20 )(y_train2.iloc[count:int(len(y_train2)*i),:])\n",
    "        pred = train(x_train,y_train2)\n",
    "        r2_score.append(mt.r2_score(y_train2,pred))\n",
    "        mse_score.append(mt.mean_squared_error(y_train2,pred))\n",
    "        rmse_score.append(pow(mt.mean_squared_error(y_train2,pred),1/2))\n",
    "        count = int(len(y_train2)*i)\n",
    "    result_raw ={'Outliers':outliers,\n",
    "                 'R2'   : r2_score,\n",
    "                 'MSE'  : mse_score,\n",
    "                 'RMSE' : rmse_score}\n",
    "    result = pd.DataFrame.from_dict(result_raw)\n",
    "    return result"
   ]
  },
  {
   "cell_type": "markdown",
   "id": "2809315e",
   "metadata": {
    "ExecuteTime": {
     "end_time": "2023-02-17T18:17:46.361705Z",
     "start_time": "2023-02-17T18:17:46.359120Z"
    }
   },
   "source": [
    "## 1.0 LOAD DATASET"
   ]
  },
  {
   "cell_type": "code",
   "execution_count": 4,
   "id": "89076d90",
   "metadata": {
    "ExecuteTime": {
     "end_time": "2023-07-31T15:02:32.881020Z",
     "start_time": "2023-07-31T15:02:32.855093Z"
    }
   },
   "outputs": [],
   "source": [
    "dataset_path = 'train.csv'\n",
    "df = pd.read_csv(dataset_path)"
   ]
  },
  {
   "cell_type": "code",
   "execution_count": 5,
   "id": "ac6b63b8",
   "metadata": {
    "ExecuteTime": {
     "end_time": "2023-07-31T15:02:32.897253Z",
     "start_time": "2023-07-31T15:02:32.882235Z"
    }
   },
   "outputs": [
    {
     "data": {
      "text/html": [
       "<div>\n",
       "<style scoped>\n",
       "    .dataframe tbody tr th:only-of-type {\n",
       "        vertical-align: middle;\n",
       "    }\n",
       "\n",
       "    .dataframe tbody tr th {\n",
       "        vertical-align: top;\n",
       "    }\n",
       "\n",
       "    .dataframe thead th {\n",
       "        text-align: right;\n",
       "    }\n",
       "</style>\n",
       "<table border=\"1\" class=\"dataframe\">\n",
       "  <thead>\n",
       "    <tr style=\"text-align: right;\">\n",
       "      <th></th>\n",
       "      <th>id_cliente</th>\n",
       "      <th>idade</th>\n",
       "      <th>saldo_atual</th>\n",
       "      <th>divida_atual</th>\n",
       "      <th>renda_anual</th>\n",
       "      <th>valor_em_investimentos</th>\n",
       "      <th>taxa_utilizacao_credito</th>\n",
       "      <th>num_emprestimos</th>\n",
       "      <th>num_contas_bancarias</th>\n",
       "      <th>num_cartoes_credito</th>\n",
       "      <th>dias_atraso_dt_venc</th>\n",
       "      <th>num_pgtos_atrasados</th>\n",
       "      <th>num_consultas_credito</th>\n",
       "      <th>taxa_juros</th>\n",
       "      <th>investe_exterior</th>\n",
       "      <th>pessoa_polit_exp</th>\n",
       "      <th>limite_adicional</th>\n",
       "    </tr>\n",
       "  </thead>\n",
       "  <tbody>\n",
       "    <tr>\n",
       "      <th>0</th>\n",
       "      <td>1767</td>\n",
       "      <td>21</td>\n",
       "      <td>278.172008</td>\n",
       "      <td>2577.05</td>\n",
       "      <td>24196.89636</td>\n",
       "      <td>104.306544</td>\n",
       "      <td>31.038763</td>\n",
       "      <td>6</td>\n",
       "      <td>5</td>\n",
       "      <td>7</td>\n",
       "      <td>21</td>\n",
       "      <td>14</td>\n",
       "      <td>9</td>\n",
       "      <td>15</td>\n",
       "      <td>Não</td>\n",
       "      <td>Não</td>\n",
       "      <td>Negar</td>\n",
       "    </tr>\n",
       "    <tr>\n",
       "      <th>1</th>\n",
       "      <td>11920</td>\n",
       "      <td>40</td>\n",
       "      <td>268.874152</td>\n",
       "      <td>2465.39</td>\n",
       "      <td>19227.37796</td>\n",
       "      <td>69.858778</td>\n",
       "      <td>36.917093</td>\n",
       "      <td>5</td>\n",
       "      <td>8</td>\n",
       "      <td>5</td>\n",
       "      <td>40</td>\n",
       "      <td>23</td>\n",
       "      <td>10</td>\n",
       "      <td>18</td>\n",
       "      <td>Não</td>\n",
       "      <td>Não</td>\n",
       "      <td>Negar</td>\n",
       "    </tr>\n",
       "    <tr>\n",
       "      <th>2</th>\n",
       "      <td>8910</td>\n",
       "      <td>36</td>\n",
       "      <td>446.643127</td>\n",
       "      <td>1055.29</td>\n",
       "      <td>42822.28223</td>\n",
       "      <td>134.201478</td>\n",
       "      <td>34.561714</td>\n",
       "      <td>0</td>\n",
       "      <td>3</td>\n",
       "      <td>6</td>\n",
       "      <td>26</td>\n",
       "      <td>13</td>\n",
       "      <td>3</td>\n",
       "      <td>15</td>\n",
       "      <td>Sim</td>\n",
       "      <td>Não</td>\n",
       "      <td>Negar</td>\n",
       "    </tr>\n",
       "    <tr>\n",
       "      <th>3</th>\n",
       "      <td>4964</td>\n",
       "      <td>58</td>\n",
       "      <td>321.141267</td>\n",
       "      <td>703.05</td>\n",
       "      <td>51786.82600</td>\n",
       "      <td>297.350067</td>\n",
       "      <td>31.493561</td>\n",
       "      <td>0</td>\n",
       "      <td>3</td>\n",
       "      <td>7</td>\n",
       "      <td>12</td>\n",
       "      <td>7</td>\n",
       "      <td>2</td>\n",
       "      <td>1</td>\n",
       "      <td>Sim</td>\n",
       "      <td>Não</td>\n",
       "      <td>Negar</td>\n",
       "    </tr>\n",
       "    <tr>\n",
       "      <th>4</th>\n",
       "      <td>10100</td>\n",
       "      <td>35</td>\n",
       "      <td>428.716114</td>\n",
       "      <td>891.29</td>\n",
       "      <td>44626.85346</td>\n",
       "      <td>134.201478</td>\n",
       "      <td>28.028887</td>\n",
       "      <td>2</td>\n",
       "      <td>8</td>\n",
       "      <td>7</td>\n",
       "      <td>24</td>\n",
       "      <td>10</td>\n",
       "      <td>8</td>\n",
       "      <td>20</td>\n",
       "      <td>Sim</td>\n",
       "      <td>Não</td>\n",
       "      <td>Negar</td>\n",
       "    </tr>\n",
       "  </tbody>\n",
       "</table>\n",
       "</div>"
      ],
      "text/plain": [
       "   id_cliente  idade  saldo_atual  divida_atual  renda_anual  \\\n",
       "0        1767     21   278.172008       2577.05  24196.89636   \n",
       "1       11920     40   268.874152       2465.39  19227.37796   \n",
       "2        8910     36   446.643127       1055.29  42822.28223   \n",
       "3        4964     58   321.141267        703.05  51786.82600   \n",
       "4       10100     35   428.716114        891.29  44626.85346   \n",
       "\n",
       "   valor_em_investimentos  taxa_utilizacao_credito  num_emprestimos  \\\n",
       "0              104.306544                31.038763                6   \n",
       "1               69.858778                36.917093                5   \n",
       "2              134.201478                34.561714                0   \n",
       "3              297.350067                31.493561                0   \n",
       "4              134.201478                28.028887                2   \n",
       "\n",
       "   num_contas_bancarias  num_cartoes_credito  dias_atraso_dt_venc  \\\n",
       "0                     5                    7                   21   \n",
       "1                     8                    5                   40   \n",
       "2                     3                    6                   26   \n",
       "3                     3                    7                   12   \n",
       "4                     8                    7                   24   \n",
       "\n",
       "   num_pgtos_atrasados  num_consultas_credito  taxa_juros investe_exterior  \\\n",
       "0                   14                      9          15              Não   \n",
       "1                   23                     10          18              Não   \n",
       "2                   13                      3          15              Sim   \n",
       "3                    7                      2           1              Sim   \n",
       "4                   10                      8          20              Sim   \n",
       "\n",
       "  pessoa_polit_exp limite_adicional  \n",
       "0              Não            Negar  \n",
       "1              Não            Negar  \n",
       "2              Não            Negar  \n",
       "3              Não            Negar  \n",
       "4              Não            Negar  "
      ]
     },
     "execution_count": 5,
     "metadata": {},
     "output_type": "execute_result"
    }
   ],
   "source": [
    "df.head()"
   ]
  },
  {
   "cell_type": "markdown",
   "id": "0f40563d",
   "metadata": {},
   "source": [
    "## 2.0 DATA PREPARATION"
   ]
  },
  {
   "cell_type": "code",
   "execution_count": 6,
   "id": "f2d7a66a",
   "metadata": {
    "ExecuteTime": {
     "end_time": "2023-07-31T15:02:32.904305Z",
     "start_time": "2023-07-31T15:02:32.899842Z"
    }
   },
   "outputs": [
    {
     "data": {
      "text/plain": [
       "Index(['id_cliente', 'idade', 'saldo_atual', 'divida_atual', 'renda_anual',\n",
       "       'valor_em_investimentos', 'taxa_utilizacao_credito', 'num_emprestimos',\n",
       "       'num_contas_bancarias', 'num_cartoes_credito', 'dias_atraso_dt_venc',\n",
       "       'num_pgtos_atrasados', 'num_consultas_credito', 'taxa_juros',\n",
       "       'investe_exterior', 'pessoa_polit_exp', 'limite_adicional'],\n",
       "      dtype='object')"
      ]
     },
     "execution_count": 6,
     "metadata": {},
     "output_type": "execute_result"
    }
   ],
   "source": [
    "df.columns"
   ]
  },
  {
   "cell_type": "code",
   "execution_count": 7,
   "id": "27e679d7",
   "metadata": {
    "ExecuteTime": {
     "end_time": "2023-07-31T15:02:32.908418Z",
     "start_time": "2023-07-31T15:02:32.905578Z"
    }
   },
   "outputs": [],
   "source": [
    "# features = ['idade', 'divida_atual', 'renda_anual',\n",
    "#             'valor_em_investimentos', 'taxa_utilizacao_credito', 'num_emprestimos',\n",
    "#             'num_contas_bancarias', 'num_cartoes_credito', 'dias_atraso_dt_venc',\n",
    "#             'num_pgtos_atrasados', 'num_consultas_credito', 'taxa_juros']\n",
    "features = ['idade', 'divida_atual', 'renda_anual','num_pgtos_atrasados', 'num_consultas_credito']\n",
    "label = ['saldo_atual']"
   ]
  },
  {
   "cell_type": "code",
   "execution_count": 8,
   "id": "0471823e",
   "metadata": {
    "ExecuteTime": {
     "end_time": "2023-07-31T15:02:32.915788Z",
     "start_time": "2023-07-31T15:02:32.909689Z"
    }
   },
   "outputs": [],
   "source": [
    "x_train = df.loc[:,features]\n",
    "y_train = df.loc[:,label]"
   ]
  },
  {
   "cell_type": "markdown",
   "id": "491168df",
   "metadata": {},
   "source": [
    "## 3.0 MODEL TRAINING"
   ]
  },
  {
   "cell_type": "markdown",
   "id": "efcf06b5",
   "metadata": {
    "ExecuteTime": {
     "end_time": "2023-02-26T13:05:11.327698Z",
     "start_time": "2023-02-26T13:05:11.325443Z"
    }
   },
   "source": [
    "### 3.1 MODEL TRAINING - SKLearn"
   ]
  },
  {
   "cell_type": "code",
   "execution_count": 9,
   "id": "89af7055",
   "metadata": {
    "ExecuteTime": {
     "end_time": "2023-07-31T15:02:32.926659Z",
     "start_time": "2023-07-31T15:02:32.917074Z"
    }
   },
   "outputs": [],
   "source": [
    "#model definition\n",
    "lr_model = LinearRegression()\n",
    "#model fit\n",
    "lr_model.fit(x_train, y_train)\n",
    "#predict\n",
    "y_pred = lr_model.predict(x_train)"
   ]
  },
  {
   "cell_type": "code",
   "execution_count": 10,
   "id": "c1441555",
   "metadata": {
    "ExecuteTime": {
     "end_time": "2023-07-31T15:02:32.936913Z",
     "start_time": "2023-07-31T15:02:32.930030Z"
    },
    "scrolled": true
   },
   "outputs": [
    {
     "data": {
      "text/html": [
       "<div>\n",
       "<style scoped>\n",
       "    .dataframe tbody tr th:only-of-type {\n",
       "        vertical-align: middle;\n",
       "    }\n",
       "\n",
       "    .dataframe tbody tr th {\n",
       "        vertical-align: top;\n",
       "    }\n",
       "\n",
       "    .dataframe thead th {\n",
       "        text-align: right;\n",
       "    }\n",
       "</style>\n",
       "<table border=\"1\" class=\"dataframe\">\n",
       "  <thead>\n",
       "    <tr style=\"text-align: right;\">\n",
       "      <th></th>\n",
       "      <th>id_cliente</th>\n",
       "      <th>saldo_atual</th>\n",
       "      <th>predicted</th>\n",
       "    </tr>\n",
       "  </thead>\n",
       "  <tbody>\n",
       "    <tr>\n",
       "      <th>0</th>\n",
       "      <td>1767</td>\n",
       "      <td>278.172008</td>\n",
       "      <td>335.734457</td>\n",
       "    </tr>\n",
       "    <tr>\n",
       "      <th>1</th>\n",
       "      <td>11920</td>\n",
       "      <td>268.874152</td>\n",
       "      <td>342.390960</td>\n",
       "    </tr>\n",
       "    <tr>\n",
       "      <th>2</th>\n",
       "      <td>8910</td>\n",
       "      <td>446.643127</td>\n",
       "      <td>426.396661</td>\n",
       "    </tr>\n",
       "    <tr>\n",
       "      <th>3</th>\n",
       "      <td>4964</td>\n",
       "      <td>321.141267</td>\n",
       "      <td>447.399195</td>\n",
       "    </tr>\n",
       "    <tr>\n",
       "      <th>4</th>\n",
       "      <td>10100</td>\n",
       "      <td>428.716114</td>\n",
       "      <td>436.240392</td>\n",
       "    </tr>\n",
       "  </tbody>\n",
       "</table>\n",
       "</div>"
      ],
      "text/plain": [
       "   id_cliente  saldo_atual   predicted\n",
       "0        1767   278.172008  335.734457\n",
       "1       11920   268.874152  342.390960\n",
       "2        8910   446.643127  426.396661\n",
       "3        4964   321.141267  447.399195\n",
       "4       10100   428.716114  436.240392"
      ]
     },
     "execution_count": 10,
     "metadata": {},
     "output_type": "execute_result"
    }
   ],
   "source": [
    "df1 = df.loc[:,['id_cliente','saldo_atual']]\n",
    "df1['predicted'] = y_pred\n",
    "df1.head()"
   ]
  },
  {
   "cell_type": "markdown",
   "id": "d85408a1",
   "metadata": {
    "ExecuteTime": {
     "end_time": "2023-02-26T13:03:52.546327Z",
     "start_time": "2023-02-26T13:03:52.544061Z"
    }
   },
   "source": [
    "### 3.2 MODEL TRAINING - Stats Model"
   ]
  },
  {
   "cell_type": "code",
   "execution_count": 11,
   "id": "544a47e7",
   "metadata": {
    "ExecuteTime": {
     "end_time": "2023-07-31T15:02:32.949204Z",
     "start_time": "2023-07-31T15:02:32.938911Z"
    }
   },
   "outputs": [
    {
     "data": {
      "text/html": [
       "<div>\n",
       "<style scoped>\n",
       "    .dataframe tbody tr th:only-of-type {\n",
       "        vertical-align: middle;\n",
       "    }\n",
       "\n",
       "    .dataframe tbody tr th {\n",
       "        vertical-align: top;\n",
       "    }\n",
       "\n",
       "    .dataframe thead th {\n",
       "        text-align: right;\n",
       "    }\n",
       "</style>\n",
       "<table border=\"1\" class=\"dataframe\">\n",
       "  <thead>\n",
       "    <tr style=\"text-align: right;\">\n",
       "      <th></th>\n",
       "      <th>idade</th>\n",
       "      <th>divida_atual</th>\n",
       "      <th>renda_anual</th>\n",
       "      <th>num_pgtos_atrasados</th>\n",
       "      <th>num_consultas_credito</th>\n",
       "      <th>saldo_atual</th>\n",
       "    </tr>\n",
       "  </thead>\n",
       "  <tbody>\n",
       "    <tr>\n",
       "      <th>0</th>\n",
       "      <td>21</td>\n",
       "      <td>2577.05</td>\n",
       "      <td>24196.89636</td>\n",
       "      <td>14</td>\n",
       "      <td>9</td>\n",
       "      <td>278.172008</td>\n",
       "    </tr>\n",
       "    <tr>\n",
       "      <th>1</th>\n",
       "      <td>40</td>\n",
       "      <td>2465.39</td>\n",
       "      <td>19227.37796</td>\n",
       "      <td>23</td>\n",
       "      <td>10</td>\n",
       "      <td>268.874152</td>\n",
       "    </tr>\n",
       "    <tr>\n",
       "      <th>2</th>\n",
       "      <td>36</td>\n",
       "      <td>1055.29</td>\n",
       "      <td>42822.28223</td>\n",
       "      <td>13</td>\n",
       "      <td>3</td>\n",
       "      <td>446.643127</td>\n",
       "    </tr>\n",
       "    <tr>\n",
       "      <th>3</th>\n",
       "      <td>58</td>\n",
       "      <td>703.05</td>\n",
       "      <td>51786.82600</td>\n",
       "      <td>7</td>\n",
       "      <td>2</td>\n",
       "      <td>321.141267</td>\n",
       "    </tr>\n",
       "    <tr>\n",
       "      <th>4</th>\n",
       "      <td>35</td>\n",
       "      <td>891.29</td>\n",
       "      <td>44626.85346</td>\n",
       "      <td>10</td>\n",
       "      <td>8</td>\n",
       "      <td>428.716114</td>\n",
       "    </tr>\n",
       "    <tr>\n",
       "      <th>...</th>\n",
       "      <td>...</td>\n",
       "      <td>...</td>\n",
       "      <td>...</td>\n",
       "      <td>...</td>\n",
       "      <td>...</td>\n",
       "      <td>...</td>\n",
       "    </tr>\n",
       "    <tr>\n",
       "      <th>9495</th>\n",
       "      <td>29</td>\n",
       "      <td>157.98</td>\n",
       "      <td>32624.67754</td>\n",
       "      <td>15</td>\n",
       "      <td>1</td>\n",
       "      <td>157.500279</td>\n",
       "    </tr>\n",
       "    <tr>\n",
       "      <th>9496</th>\n",
       "      <td>1237</td>\n",
       "      <td>805.43</td>\n",
       "      <td>49024.15700</td>\n",
       "      <td>11</td>\n",
       "      <td>2</td>\n",
       "      <td>497.714090</td>\n",
       "    </tr>\n",
       "    <tr>\n",
       "      <th>9497</th>\n",
       "      <td>47</td>\n",
       "      <td>2250.42</td>\n",
       "      <td>42200.88978</td>\n",
       "      <td>8</td>\n",
       "      <td>4</td>\n",
       "      <td>306.557684</td>\n",
       "    </tr>\n",
       "    <tr>\n",
       "      <th>9498</th>\n",
       "      <td>42</td>\n",
       "      <td>505.37</td>\n",
       "      <td>35391.32289</td>\n",
       "      <td>13</td>\n",
       "      <td>3</td>\n",
       "      <td>209.870718</td>\n",
       "    </tr>\n",
       "    <tr>\n",
       "      <th>9499</th>\n",
       "      <td>35</td>\n",
       "      <td>851.22</td>\n",
       "      <td>106192.53216</td>\n",
       "      <td>4</td>\n",
       "      <td>2377</td>\n",
       "      <td>971.407512</td>\n",
       "    </tr>\n",
       "  </tbody>\n",
       "</table>\n",
       "<p>9500 rows × 6 columns</p>\n",
       "</div>"
      ],
      "text/plain": [
       "      idade  divida_atual   renda_anual  num_pgtos_atrasados  \\\n",
       "0        21       2577.05   24196.89636                   14   \n",
       "1        40       2465.39   19227.37796                   23   \n",
       "2        36       1055.29   42822.28223                   13   \n",
       "3        58        703.05   51786.82600                    7   \n",
       "4        35        891.29   44626.85346                   10   \n",
       "...     ...           ...           ...                  ...   \n",
       "9495     29        157.98   32624.67754                   15   \n",
       "9496   1237        805.43   49024.15700                   11   \n",
       "9497     47       2250.42   42200.88978                    8   \n",
       "9498     42        505.37   35391.32289                   13   \n",
       "9499     35        851.22  106192.53216                    4   \n",
       "\n",
       "      num_consultas_credito  saldo_atual  \n",
       "0                         9   278.172008  \n",
       "1                        10   268.874152  \n",
       "2                         3   446.643127  \n",
       "3                         2   321.141267  \n",
       "4                         8   428.716114  \n",
       "...                     ...          ...  \n",
       "9495                      1   157.500279  \n",
       "9496                      2   497.714090  \n",
       "9497                      4   306.557684  \n",
       "9498                      3   209.870718  \n",
       "9499                   2377   971.407512  \n",
       "\n",
       "[9500 rows x 6 columns]"
      ]
     },
     "execution_count": 11,
     "metadata": {},
     "output_type": "execute_result"
    }
   ],
   "source": [
    "df = pd.concat([x_train, y_train], axis=1)\n",
    "df"
   ]
  },
  {
   "cell_type": "code",
   "execution_count": 12,
   "id": "c6bfcc94",
   "metadata": {
    "ExecuteTime": {
     "end_time": "2023-07-31T15:02:32.991522Z",
     "start_time": "2023-07-31T15:02:32.950741Z"
    }
   },
   "outputs": [
    {
     "data": {
      "text/html": [
       "<table class=\"simpletable\">\n",
       "<caption>OLS Regression Results</caption>\n",
       "<tr>\n",
       "  <th>Dep. Variable:</th>       <td>saldo_atual</td>   <th>  R-squared:         </th> <td>   0.101</td> \n",
       "</tr>\n",
       "<tr>\n",
       "  <th>Model:</th>                   <td>OLS</td>       <th>  Adj. R-squared:    </th> <td>   0.100</td> \n",
       "</tr>\n",
       "<tr>\n",
       "  <th>Method:</th>             <td>Least Squares</td>  <th>  F-statistic:       </th> <td>   212.4</td> \n",
       "</tr>\n",
       "<tr>\n",
       "  <th>Date:</th>             <td>Mon, 31 Jul 2023</td> <th>  Prob (F-statistic):</th> <td>2.19e-215</td>\n",
       "</tr>\n",
       "<tr>\n",
       "  <th>Time:</th>                 <td>12:02:32</td>     <th>  Log-Likelihood:    </th> <td> -64115.</td> \n",
       "</tr>\n",
       "<tr>\n",
       "  <th>No. Observations:</th>      <td>  9500</td>      <th>  AIC:               </th> <td>1.282e+05</td>\n",
       "</tr>\n",
       "<tr>\n",
       "  <th>Df Residuals:</th>          <td>  9494</td>      <th>  BIC:               </th> <td>1.283e+05</td>\n",
       "</tr>\n",
       "<tr>\n",
       "  <th>Df Model:</th>              <td>     5</td>      <th>                     </th>     <td> </td>    \n",
       "</tr>\n",
       "<tr>\n",
       "  <th>Covariance Type:</th>      <td>nonrobust</td>    <th>                     </th>     <td> </td>    \n",
       "</tr>\n",
       "</table>\n",
       "<table class=\"simpletable\">\n",
       "<tr>\n",
       "            <td></td>               <th>coef</th>     <th>std err</th>      <th>t</th>      <th>P>|t|</th>  <th>[0.025</th>    <th>0.975]</th>  \n",
       "</tr>\n",
       "<tr>\n",
       "  <th>Intercept</th>             <td>  489.0628</td> <td>    3.431</td> <td>  142.523</td> <td> 0.000</td> <td>  482.336</td> <td>  495.789</td>\n",
       "</tr>\n",
       "<tr>\n",
       "  <th>idade</th>                 <td>-1.208e-05</td> <td>    0.003</td> <td>   -0.004</td> <td> 0.997</td> <td>   -0.006</td> <td>    0.006</td>\n",
       "</tr>\n",
       "<tr>\n",
       "  <th>divida_atual</th>          <td>   -0.0596</td> <td>    0.002</td> <td>  -32.502</td> <td> 0.000</td> <td>   -0.063</td> <td>   -0.056</td>\n",
       "</tr>\n",
       "<tr>\n",
       "  <th>renda_anual</th>           <td> 3.761e-06</td> <td> 1.46e-06</td> <td>    2.581</td> <td> 0.010</td> <td> 9.05e-07</td> <td> 6.62e-06</td>\n",
       "</tr>\n",
       "<tr>\n",
       "  <th>num_pgtos_atrasados</th>   <td>    0.0010</td> <td>    0.010</td> <td>    0.100</td> <td> 0.920</td> <td>   -0.018</td> <td>    0.020</td>\n",
       "</tr>\n",
       "<tr>\n",
       "  <th>num_consultas_credito</th> <td>    0.0136</td> <td>    0.012</td> <td>    1.175</td> <td> 0.240</td> <td>   -0.009</td> <td>    0.036</td>\n",
       "</tr>\n",
       "</table>\n",
       "<table class=\"simpletable\">\n",
       "<tr>\n",
       "  <th>Omnibus:</th>       <td>2662.068</td> <th>  Durbin-Watson:     </th> <td>   2.020</td>\n",
       "</tr>\n",
       "<tr>\n",
       "  <th>Prob(Omnibus):</th>  <td> 0.000</td>  <th>  Jarque-Bera (JB):  </th> <td>7308.947</td>\n",
       "</tr>\n",
       "<tr>\n",
       "  <th>Skew:</th>           <td> 1.493</td>  <th>  Prob(JB):          </th> <td>    0.00</td>\n",
       "</tr>\n",
       "<tr>\n",
       "  <th>Kurtosis:</th>       <td> 6.090</td>  <th>  Cond. No.          </th> <td>2.38e+06</td>\n",
       "</tr>\n",
       "</table><br/><br/>Notes:<br/>[1] Standard Errors assume that the covariance matrix of the errors is correctly specified.<br/>[2] The condition number is large, 2.38e+06. This might indicate that there are<br/>strong multicollinearity or other numerical problems."
      ],
      "text/plain": [
       "<class 'statsmodels.iolib.summary.Summary'>\n",
       "\"\"\"\n",
       "                            OLS Regression Results                            \n",
       "==============================================================================\n",
       "Dep. Variable:            saldo_atual   R-squared:                       0.101\n",
       "Model:                            OLS   Adj. R-squared:                  0.100\n",
       "Method:                 Least Squares   F-statistic:                     212.4\n",
       "Date:                Mon, 31 Jul 2023   Prob (F-statistic):          2.19e-215\n",
       "Time:                        12:02:32   Log-Likelihood:                -64115.\n",
       "No. Observations:                9500   AIC:                         1.282e+05\n",
       "Df Residuals:                    9494   BIC:                         1.283e+05\n",
       "Df Model:                           5                                         \n",
       "Covariance Type:            nonrobust                                         \n",
       "=========================================================================================\n",
       "                            coef    std err          t      P>|t|      [0.025      0.975]\n",
       "-----------------------------------------------------------------------------------------\n",
       "Intercept               489.0628      3.431    142.523      0.000     482.336     495.789\n",
       "idade                 -1.208e-05      0.003     -0.004      0.997      -0.006       0.006\n",
       "divida_atual             -0.0596      0.002    -32.502      0.000      -0.063      -0.056\n",
       "renda_anual            3.761e-06   1.46e-06      2.581      0.010    9.05e-07    6.62e-06\n",
       "num_pgtos_atrasados       0.0010      0.010      0.100      0.920      -0.018       0.020\n",
       "num_consultas_credito     0.0136      0.012      1.175      0.240      -0.009       0.036\n",
       "==============================================================================\n",
       "Omnibus:                     2662.068   Durbin-Watson:                   2.020\n",
       "Prob(Omnibus):                  0.000   Jarque-Bera (JB):             7308.947\n",
       "Skew:                           1.493   Prob(JB):                         0.00\n",
       "Kurtosis:                       6.090   Cond. No.                     2.38e+06\n",
       "==============================================================================\n",
       "\n",
       "Notes:\n",
       "[1] Standard Errors assume that the covariance matrix of the errors is correctly specified.\n",
       "[2] The condition number is large, 2.38e+06. This might indicate that there are\n",
       "strong multicollinearity or other numerical problems.\n",
       "\"\"\""
      ]
     },
     "execution_count": 12,
     "metadata": {},
     "output_type": "execute_result"
    }
   ],
   "source": [
    "lr_model_stats = smf.ols(formula= 'saldo_atual ~ idade + divida_atual + renda_anual + num_pgtos_atrasados + num_consultas_credito', data = df)\n",
    "lr_model_stats = lr_model_stats.fit()\n",
    "lr_model_stats.summary()"
   ]
  },
  {
   "cell_type": "markdown",
   "id": "a23ee802",
   "metadata": {},
   "source": [
    "## 4.0 PERFORMANCE"
   ]
  },
  {
   "cell_type": "markdown",
   "id": "95d62006",
   "metadata": {},
   "source": [
    "### 4.1 R squared"
   ]
  },
  {
   "cell_type": "code",
   "execution_count": 13,
   "id": "b7149bd5",
   "metadata": {
    "ExecuteTime": {
     "end_time": "2023-07-31T15:02:33.000906Z",
     "start_time": "2023-07-31T15:02:32.995631Z"
    }
   },
   "outputs": [
    {
     "data": {
      "text/plain": [
       "0.10058677119960424"
      ]
     },
     "execution_count": 13,
     "metadata": {},
     "output_type": "execute_result"
    }
   ],
   "source": [
    "r2 = mt.r2_score(df1['saldo_atual'],df1['predicted'])\n",
    "r2"
   ]
  },
  {
   "cell_type": "markdown",
   "id": "a8e10bf0",
   "metadata": {
    "ExecuteTime": {
     "end_time": "2023-02-27T16:11:15.233416Z",
     "start_time": "2023-02-27T16:11:15.231199Z"
    }
   },
   "source": [
    "### 4.2 MSE"
   ]
  },
  {
   "cell_type": "code",
   "execution_count": 14,
   "id": "4693d755",
   "metadata": {
    "ExecuteTime": {
     "end_time": "2023-07-31T15:02:33.009603Z",
     "start_time": "2023-07-31T15:02:33.002694Z"
    }
   },
   "outputs": [
    {
     "data": {
      "text/plain": [
       "42620.38267708075"
      ]
     },
     "execution_count": 14,
     "metadata": {},
     "output_type": "execute_result"
    }
   ],
   "source": [
    "mse = mt.mean_squared_error(df1['saldo_atual'],df1['predicted'])\n",
    "mse"
   ]
  },
  {
   "cell_type": "markdown",
   "id": "2706a953",
   "metadata": {
    "ExecuteTime": {
     "end_time": "2023-02-27T17:56:56.331861Z",
     "start_time": "2023-02-27T17:56:56.329433Z"
    }
   },
   "source": [
    "### 4.3 RMSE"
   ]
  },
  {
   "cell_type": "code",
   "execution_count": 15,
   "id": "19b061c7",
   "metadata": {
    "ExecuteTime": {
     "end_time": "2023-07-31T15:02:33.015405Z",
     "start_time": "2023-07-31T15:02:33.011340Z"
    }
   },
   "outputs": [
    {
     "data": {
      "text/plain": [
       "206.44704569714906"
      ]
     },
     "execution_count": 15,
     "metadata": {},
     "output_type": "execute_result"
    }
   ],
   "source": [
    "rmse = pow(mse,1/2)\n",
    "rmse"
   ]
  },
  {
   "cell_type": "markdown",
   "id": "0623aaf3",
   "metadata": {},
   "source": [
    "## 5.0 SIMULATION OUTLIERS"
   ]
  },
  {
   "cell_type": "code",
   "execution_count": 16,
   "id": "f38c352c",
   "metadata": {
    "ExecuteTime": {
     "end_time": "2023-07-31T15:02:33.075450Z",
     "start_time": "2023-07-31T15:02:33.017064Z"
    },
    "hide_input": false
   },
   "outputs": [
    {
     "data": {
      "text/html": [
       "<div>\n",
       "<style scoped>\n",
       "    .dataframe tbody tr th:only-of-type {\n",
       "        vertical-align: middle;\n",
       "    }\n",
       "\n",
       "    .dataframe tbody tr th {\n",
       "        vertical-align: top;\n",
       "    }\n",
       "\n",
       "    .dataframe thead th {\n",
       "        text-align: right;\n",
       "    }\n",
       "</style>\n",
       "<table border=\"1\" class=\"dataframe\">\n",
       "  <thead>\n",
       "    <tr style=\"text-align: right;\">\n",
       "      <th></th>\n",
       "      <th>Outliers</th>\n",
       "      <th>R2</th>\n",
       "      <th>MSE</th>\n",
       "      <th>RMSE</th>\n",
       "    </tr>\n",
       "  </thead>\n",
       "  <tbody>\n",
       "    <tr>\n",
       "      <th>0</th>\n",
       "      <td>0.00</td>\n",
       "      <td>0.100587</td>\n",
       "      <td>4.262038e+04</td>\n",
       "      <td>206.447046</td>\n",
       "    </tr>\n",
       "    <tr>\n",
       "      <th>1</th>\n",
       "      <td>0.05</td>\n",
       "      <td>0.003631</td>\n",
       "      <td>3.677484e+06</td>\n",
       "      <td>1917.676671</td>\n",
       "    </tr>\n",
       "    <tr>\n",
       "      <th>2</th>\n",
       "      <td>0.10</td>\n",
       "      <td>0.004471</td>\n",
       "      <td>7.011231e+06</td>\n",
       "      <td>2647.873014</td>\n",
       "    </tr>\n",
       "    <tr>\n",
       "      <th>3</th>\n",
       "      <td>0.15</td>\n",
       "      <td>0.004858</td>\n",
       "      <td>1.000436e+07</td>\n",
       "      <td>3162.966495</td>\n",
       "    </tr>\n",
       "    <tr>\n",
       "      <th>4</th>\n",
       "      <td>0.20</td>\n",
       "      <td>0.007470</td>\n",
       "      <td>1.300901e+07</td>\n",
       "      <td>3606.800801</td>\n",
       "    </tr>\n",
       "  </tbody>\n",
       "</table>\n",
       "</div>"
      ],
      "text/plain": [
       "   Outliers        R2           MSE         RMSE\n",
       "0      0.00  0.100587  4.262038e+04   206.447046\n",
       "1      0.05  0.003631  3.677484e+06  1917.676671\n",
       "2      0.10  0.004471  7.011231e+06  2647.873014\n",
       "3      0.15  0.004858  1.000436e+07  3162.966495\n",
       "4      0.20  0.007470  1.300901e+07  3606.800801"
      ]
     },
     "execution_count": 16,
     "metadata": {},
     "output_type": "execute_result"
    }
   ],
   "source": [
    "outliers = [0,0.05,0.1,0.15,0.2]\n",
    "result = simulation_outliers(outliers)\n",
    "result"
   ]
  },
  {
   "cell_type": "code",
   "execution_count": null,
   "id": "ecde4d7c",
   "metadata": {},
   "outputs": [],
   "source": []
  },
  {
   "cell_type": "code",
   "execution_count": null,
   "id": "8333e9ae",
   "metadata": {},
   "outputs": [],
   "source": []
  }
 ],
 "metadata": {
  "kernelspec": {
   "display_name": "Python 3 (ipykernel)",
   "language": "python",
   "name": "python3"
  },
  "language_info": {
   "codemirror_mode": {
    "name": "ipython",
    "version": 3
   },
   "file_extension": ".py",
   "mimetype": "text/x-python",
   "name": "python",
   "nbconvert_exporter": "python",
   "pygments_lexer": "ipython3",
   "version": "3.10.7"
  }
 },
 "nbformat": 4,
 "nbformat_minor": 5
}
