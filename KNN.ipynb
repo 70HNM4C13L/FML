{
 "cells": [
  {
   "cell_type": "markdown",
   "id": "08e066ad",
   "metadata": {
    "ExecuteTime": {
     "end_time": "2023-02-07T17:28:03.598063Z",
     "start_time": "2023-02-07T17:28:03.595664Z"
    }
   },
   "source": [
    "# KNN - Aprendizado supervisionado - Classificacao"
   ]
  },
  {
   "cell_type": "markdown",
   "id": "5516c3e0",
   "metadata": {},
   "source": [
    "## 1.0 Import Libraries"
   ]
  },
  {
   "cell_type": "code",
   "execution_count": 1,
   "id": "dc6d112d",
   "metadata": {
    "ExecuteTime": {
     "end_time": "2023-02-17T13:25:11.552669Z",
     "start_time": "2023-02-17T13:25:09.617114Z"
    }
   },
   "outputs": [],
   "source": [
    "import pandas as pd\n",
    "from sklearn.neighbors import KNeighborsClassifier\n",
    "from sklearn import metrics as mt\n",
    "import seaborn as sns\n",
    "import matplotlib.pyplot as plt\n",
    "import numpy as np\n",
    "np.set_printoptions(suppress=True)\n",
    "pd.options.display.float_format = '{:.2f}'.format\n"
   ]
  },
  {
   "cell_type": "markdown",
   "id": "dcf650e9",
   "metadata": {
    "ExecuteTime": {
     "end_time": "2023-02-07T17:30:03.988186Z",
     "start_time": "2023-02-07T17:30:03.985853Z"
    }
   },
   "source": [
    "### 1.1 Load DATASET"
   ]
  },
  {
   "cell_type": "code",
   "execution_count": 2,
   "id": "68f72660",
   "metadata": {
    "ExecuteTime": {
     "end_time": "2023-02-17T13:25:11.556498Z",
     "start_time": "2023-02-17T13:25:11.554083Z"
    }
   },
   "outputs": [],
   "source": [
    "dataset_path = 'train.csv'"
   ]
  },
  {
   "cell_type": "code",
   "execution_count": 3,
   "id": "cae36951",
   "metadata": {
    "ExecuteTime": {
     "end_time": "2023-02-17T13:25:11.596807Z",
     "start_time": "2023-02-17T13:25:11.558692Z"
    }
   },
   "outputs": [],
   "source": [
    "df = pd.read_csv(dataset_path)"
   ]
  },
  {
   "cell_type": "code",
   "execution_count": 4,
   "id": "178ba812",
   "metadata": {
    "ExecuteTime": {
     "end_time": "2023-02-17T13:25:11.614480Z",
     "start_time": "2023-02-17T13:25:11.598485Z"
    }
   },
   "outputs": [
    {
     "data": {
      "text/html": [
       "<div>\n",
       "<style scoped>\n",
       "    .dataframe tbody tr th:only-of-type {\n",
       "        vertical-align: middle;\n",
       "    }\n",
       "\n",
       "    .dataframe tbody tr th {\n",
       "        vertical-align: top;\n",
       "    }\n",
       "\n",
       "    .dataframe thead th {\n",
       "        text-align: right;\n",
       "    }\n",
       "</style>\n",
       "<table border=\"1\" class=\"dataframe\">\n",
       "  <thead>\n",
       "    <tr style=\"text-align: right;\">\n",
       "      <th></th>\n",
       "      <th>id_cliente</th>\n",
       "      <th>idade</th>\n",
       "      <th>saldo_atual</th>\n",
       "      <th>divida_atual</th>\n",
       "      <th>renda_anual</th>\n",
       "      <th>valor_em_investimentos</th>\n",
       "      <th>taxa_utilizacao_credito</th>\n",
       "      <th>num_emprestimos</th>\n",
       "      <th>num_contas_bancarias</th>\n",
       "      <th>num_cartoes_credito</th>\n",
       "      <th>dias_atraso_dt_venc</th>\n",
       "      <th>num_pgtos_atrasados</th>\n",
       "      <th>num_consultas_credito</th>\n",
       "      <th>taxa_juros</th>\n",
       "      <th>investe_exterior</th>\n",
       "      <th>pessoa_polit_exp</th>\n",
       "      <th>limite_adicional</th>\n",
       "    </tr>\n",
       "  </thead>\n",
       "  <tbody>\n",
       "    <tr>\n",
       "      <th>0</th>\n",
       "      <td>1767</td>\n",
       "      <td>21</td>\n",
       "      <td>278.17</td>\n",
       "      <td>2577.05</td>\n",
       "      <td>24196.90</td>\n",
       "      <td>104.31</td>\n",
       "      <td>31.04</td>\n",
       "      <td>6</td>\n",
       "      <td>5</td>\n",
       "      <td>7</td>\n",
       "      <td>21</td>\n",
       "      <td>14</td>\n",
       "      <td>9</td>\n",
       "      <td>15</td>\n",
       "      <td>Não</td>\n",
       "      <td>Não</td>\n",
       "      <td>Negar</td>\n",
       "    </tr>\n",
       "    <tr>\n",
       "      <th>1</th>\n",
       "      <td>11920</td>\n",
       "      <td>40</td>\n",
       "      <td>268.87</td>\n",
       "      <td>2465.39</td>\n",
       "      <td>19227.38</td>\n",
       "      <td>69.86</td>\n",
       "      <td>36.92</td>\n",
       "      <td>5</td>\n",
       "      <td>8</td>\n",
       "      <td>5</td>\n",
       "      <td>40</td>\n",
       "      <td>23</td>\n",
       "      <td>10</td>\n",
       "      <td>18</td>\n",
       "      <td>Não</td>\n",
       "      <td>Não</td>\n",
       "      <td>Negar</td>\n",
       "    </tr>\n",
       "    <tr>\n",
       "      <th>2</th>\n",
       "      <td>8910</td>\n",
       "      <td>36</td>\n",
       "      <td>446.64</td>\n",
       "      <td>1055.29</td>\n",
       "      <td>42822.28</td>\n",
       "      <td>134.20</td>\n",
       "      <td>34.56</td>\n",
       "      <td>0</td>\n",
       "      <td>3</td>\n",
       "      <td>6</td>\n",
       "      <td>26</td>\n",
       "      <td>13</td>\n",
       "      <td>3</td>\n",
       "      <td>15</td>\n",
       "      <td>Sim</td>\n",
       "      <td>Não</td>\n",
       "      <td>Negar</td>\n",
       "    </tr>\n",
       "    <tr>\n",
       "      <th>3</th>\n",
       "      <td>4964</td>\n",
       "      <td>58</td>\n",
       "      <td>321.14</td>\n",
       "      <td>703.05</td>\n",
       "      <td>51786.83</td>\n",
       "      <td>297.35</td>\n",
       "      <td>31.49</td>\n",
       "      <td>0</td>\n",
       "      <td>3</td>\n",
       "      <td>7</td>\n",
       "      <td>12</td>\n",
       "      <td>7</td>\n",
       "      <td>2</td>\n",
       "      <td>1</td>\n",
       "      <td>Sim</td>\n",
       "      <td>Não</td>\n",
       "      <td>Negar</td>\n",
       "    </tr>\n",
       "    <tr>\n",
       "      <th>4</th>\n",
       "      <td>10100</td>\n",
       "      <td>35</td>\n",
       "      <td>428.72</td>\n",
       "      <td>891.29</td>\n",
       "      <td>44626.85</td>\n",
       "      <td>134.20</td>\n",
       "      <td>28.03</td>\n",
       "      <td>2</td>\n",
       "      <td>8</td>\n",
       "      <td>7</td>\n",
       "      <td>24</td>\n",
       "      <td>10</td>\n",
       "      <td>8</td>\n",
       "      <td>20</td>\n",
       "      <td>Sim</td>\n",
       "      <td>Não</td>\n",
       "      <td>Negar</td>\n",
       "    </tr>\n",
       "  </tbody>\n",
       "</table>\n",
       "</div>"
      ],
      "text/plain": [
       "   id_cliente  idade  saldo_atual  divida_atual  renda_anual  \\\n",
       "0        1767     21       278.17       2577.05     24196.90   \n",
       "1       11920     40       268.87       2465.39     19227.38   \n",
       "2        8910     36       446.64       1055.29     42822.28   \n",
       "3        4964     58       321.14        703.05     51786.83   \n",
       "4       10100     35       428.72        891.29     44626.85   \n",
       "\n",
       "   valor_em_investimentos  taxa_utilizacao_credito  num_emprestimos  \\\n",
       "0                  104.31                    31.04                6   \n",
       "1                   69.86                    36.92                5   \n",
       "2                  134.20                    34.56                0   \n",
       "3                  297.35                    31.49                0   \n",
       "4                  134.20                    28.03                2   \n",
       "\n",
       "   num_contas_bancarias  num_cartoes_credito  dias_atraso_dt_venc  \\\n",
       "0                     5                    7                   21   \n",
       "1                     8                    5                   40   \n",
       "2                     3                    6                   26   \n",
       "3                     3                    7                   12   \n",
       "4                     8                    7                   24   \n",
       "\n",
       "   num_pgtos_atrasados  num_consultas_credito  taxa_juros investe_exterior  \\\n",
       "0                   14                      9          15              Não   \n",
       "1                   23                     10          18              Não   \n",
       "2                   13                      3          15              Sim   \n",
       "3                    7                      2           1              Sim   \n",
       "4                   10                      8          20              Sim   \n",
       "\n",
       "  pessoa_polit_exp limite_adicional  \n",
       "0              Não            Negar  \n",
       "1              Não            Negar  \n",
       "2              Não            Negar  \n",
       "3              Não            Negar  \n",
       "4              Não            Negar  "
      ]
     },
     "execution_count": 4,
     "metadata": {},
     "output_type": "execute_result"
    }
   ],
   "source": [
    "df.head()"
   ]
  },
  {
   "cell_type": "markdown",
   "id": "2123c53d",
   "metadata": {
    "ExecuteTime": {
     "end_time": "2023-02-07T17:56:32.718033Z",
     "start_time": "2023-02-07T17:56:32.715767Z"
    },
    "heading_collapsed": true
   },
   "source": [
    "## 2.0 Selecao de FEATURES"
   ]
  },
  {
   "cell_type": "code",
   "execution_count": 5,
   "id": "17199fac",
   "metadata": {
    "ExecuteTime": {
     "end_time": "2023-02-17T13:25:11.618957Z",
     "start_time": "2023-02-17T13:25:11.616125Z"
    },
    "code_folding": [],
    "hidden": true
   },
   "outputs": [],
   "source": [
    "features = ['idade', 'saldo_atual', 'divida_atual', 'renda_anual',\n",
    "       'valor_em_investimentos', 'taxa_utilizacao_credito', 'num_emprestimos',\n",
    "       'num_contas_bancarias', 'num_cartoes_credito', 'dias_atraso_dt_venc',\n",
    "       'num_pgtos_atrasados', 'num_consultas_credito', 'taxa_juros']\n",
    "label = 'limite_adicional'\n",
    "\n"
   ]
  },
  {
   "cell_type": "markdown",
   "id": "e172660e",
   "metadata": {
    "heading_collapsed": true
   },
   "source": [
    "## 3.0 Treinamento"
   ]
  },
  {
   "cell_type": "code",
   "execution_count": 6,
   "id": "95bffcf8",
   "metadata": {
    "ExecuteTime": {
     "end_time": "2023-02-17T13:25:11.946138Z",
     "start_time": "2023-02-17T13:25:11.620444Z"
    },
    "hidden": true
   },
   "outputs": [],
   "source": [
    "#preparacao\n",
    "x_train = df.loc[: , features]\n",
    "y_train = df.loc[: , label]\n",
    "\n",
    "#treinamento\n",
    "k = 7\n",
    "knn_classifier = KNeighborsClassifier ( n_neighbors= k)\n",
    "knn_classifier.fit(x_train, y_train)\n",
    "\n",
    "#previssao\n",
    "y_pred = knn_classifier.predict(x_train)\n",
    "\n",
    "#comparacao\n",
    "df1 = df.loc[:, ['id_cliente','limite_adicional']]\n",
    "df1['predicted'] = y_pred"
   ]
  },
  {
   "cell_type": "code",
   "execution_count": 7,
   "id": "6d8eb3fe",
   "metadata": {
    "ExecuteTime": {
     "end_time": "2023-02-17T13:25:11.955308Z",
     "start_time": "2023-02-17T13:25:11.947564Z"
    },
    "hidden": true
   },
   "outputs": [
    {
     "data": {
      "text/html": [
       "<div>\n",
       "<style scoped>\n",
       "    .dataframe tbody tr th:only-of-type {\n",
       "        vertical-align: middle;\n",
       "    }\n",
       "\n",
       "    .dataframe tbody tr th {\n",
       "        vertical-align: top;\n",
       "    }\n",
       "\n",
       "    .dataframe thead th {\n",
       "        text-align: right;\n",
       "    }\n",
       "</style>\n",
       "<table border=\"1\" class=\"dataframe\">\n",
       "  <thead>\n",
       "    <tr style=\"text-align: right;\">\n",
       "      <th></th>\n",
       "      <th>id_cliente</th>\n",
       "      <th>limite_adicional</th>\n",
       "      <th>predicted</th>\n",
       "    </tr>\n",
       "  </thead>\n",
       "  <tbody>\n",
       "    <tr>\n",
       "      <th>3930</th>\n",
       "      <td>12265</td>\n",
       "      <td>Negar</td>\n",
       "      <td>Negar</td>\n",
       "    </tr>\n",
       "    <tr>\n",
       "      <th>4492</th>\n",
       "      <td>11895</td>\n",
       "      <td>Negar</td>\n",
       "      <td>Negar</td>\n",
       "    </tr>\n",
       "    <tr>\n",
       "      <th>1430</th>\n",
       "      <td>8770</td>\n",
       "      <td>Negar</td>\n",
       "      <td>Negar</td>\n",
       "    </tr>\n",
       "    <tr>\n",
       "      <th>5798</th>\n",
       "      <td>8479</td>\n",
       "      <td>Negar</td>\n",
       "      <td>Negar</td>\n",
       "    </tr>\n",
       "    <tr>\n",
       "      <th>7961</th>\n",
       "      <td>6975</td>\n",
       "      <td>Negar</td>\n",
       "      <td>Negar</td>\n",
       "    </tr>\n",
       "    <tr>\n",
       "      <th>1489</th>\n",
       "      <td>8941</td>\n",
       "      <td>Negar</td>\n",
       "      <td>Negar</td>\n",
       "    </tr>\n",
       "    <tr>\n",
       "      <th>7749</th>\n",
       "      <td>8363</td>\n",
       "      <td>Conceder</td>\n",
       "      <td>Negar</td>\n",
       "    </tr>\n",
       "    <tr>\n",
       "      <th>2799</th>\n",
       "      <td>7406</td>\n",
       "      <td>Negar</td>\n",
       "      <td>Negar</td>\n",
       "    </tr>\n",
       "    <tr>\n",
       "      <th>9124</th>\n",
       "      <td>7548</td>\n",
       "      <td>Conceder</td>\n",
       "      <td>Conceder</td>\n",
       "    </tr>\n",
       "    <tr>\n",
       "      <th>2398</th>\n",
       "      <td>10600</td>\n",
       "      <td>Negar</td>\n",
       "      <td>Negar</td>\n",
       "    </tr>\n",
       "  </tbody>\n",
       "</table>\n",
       "</div>"
      ],
      "text/plain": [
       "      id_cliente limite_adicional predicted\n",
       "3930       12265            Negar     Negar\n",
       "4492       11895            Negar     Negar\n",
       "1430        8770            Negar     Negar\n",
       "5798        8479            Negar     Negar\n",
       "7961        6975            Negar     Negar\n",
       "1489        8941            Negar     Negar\n",
       "7749        8363         Conceder     Negar\n",
       "2799        7406            Negar     Negar\n",
       "9124        7548         Conceder  Conceder\n",
       "2398       10600            Negar     Negar"
      ]
     },
     "execution_count": 7,
     "metadata": {},
     "output_type": "execute_result"
    }
   ],
   "source": [
    "df1.sample(10)"
   ]
  },
  {
   "cell_type": "markdown",
   "id": "d230deb1",
   "metadata": {},
   "source": [
    "## 4.0 Performance"
   ]
  },
  {
   "cell_type": "markdown",
   "id": "06069bcf",
   "metadata": {
    "heading_collapsed": true
   },
   "source": [
    "### 4.1 Matriz de confusao"
   ]
  },
  {
   "cell_type": "code",
   "execution_count": 8,
   "id": "96eac1b1",
   "metadata": {
    "ExecuteTime": {
     "end_time": "2023-02-17T13:25:12.157050Z",
     "start_time": "2023-02-17T13:25:11.956779Z"
    },
    "hidden": true
   },
   "outputs": [
    {
     "name": "stdout",
     "output_type": "stream",
     "text": [
      "[[ 369 1136]\n",
      " [ 203 7792]]\n"
     ]
    },
    {
     "data": {
      "image/png": "[encoded data removed]",
      "text/plain": [
       "<Figure size 1000x500 with 2 Axes>"
      ]
     },
     "metadata": {},
     "output_type": "display_data"
    }
   ],
   "source": [
    "matriz_confusao = mt.confusion_matrix(y_train, y_pred)\n",
    "print(matriz_confusao)\n",
    "plt.figure(figsize=(10,5))\n",
    "sns.heatmap(matriz_confusao, annot=True, fmt='.10g');\n"
   ]
  },
  {
   "cell_type": "markdown",
   "id": "76e45fc8",
   "metadata": {
    "ExecuteTime": {
     "end_time": "2023-02-10T18:26:20.328242Z",
     "start_time": "2023-02-10T18:26:20.325785Z"
    },
    "heading_collapsed": true
   },
   "source": [
    "### 4.2 Acuracia"
   ]
  },
  {
   "cell_type": "code",
   "execution_count": 9,
   "id": "1c5ef950",
   "metadata": {
    "ExecuteTime": {
     "end_time": "2023-02-17T13:25:12.174413Z",
     "start_time": "2023-02-17T13:25:12.159509Z"
    },
    "hidden": true
   },
   "outputs": [
    {
     "data": {
      "text/plain": [
       "0.8590526315789474"
      ]
     },
     "execution_count": 9,
     "metadata": {},
     "output_type": "execute_result"
    }
   ],
   "source": [
    "mt.accuracy_score(y_train.values,y_pred)"
   ]
  },
  {
   "cell_type": "markdown",
   "id": "edffd302",
   "metadata": {
    "heading_collapsed": true
   },
   "source": [
    "### 4.3 Precision"
   ]
  },
  {
   "cell_type": "code",
   "execution_count": 10,
   "id": "15cc724a",
   "metadata": {
    "ExecuteTime": {
     "end_time": "2023-02-17T13:25:12.231834Z",
     "start_time": "2023-02-17T13:25:12.175826Z"
    },
    "hidden": true
   },
   "outputs": [
    {
     "data": {
      "text/plain": [
       "0.8727598566308243"
      ]
     },
     "execution_count": 10,
     "metadata": {},
     "output_type": "execute_result"
    }
   ],
   "source": [
    "mt.precision_score(y_train,y_pred, pos_label='Negar')"
   ]
  },
  {
   "cell_type": "markdown",
   "id": "7b48a49f",
   "metadata": {
    "ExecuteTime": {
     "end_time": "2023-02-10T19:01:52.505456Z",
     "start_time": "2023-02-10T19:01:52.502992Z"
    },
    "heading_collapsed": true
   },
   "source": [
    "### 4.4 Recall"
   ]
  },
  {
   "cell_type": "code",
   "execution_count": 11,
   "id": "8cef3429",
   "metadata": {
    "ExecuteTime": {
     "end_time": "2023-02-17T13:25:12.286135Z",
     "start_time": "2023-02-17T13:25:12.232989Z"
    },
    "hidden": true
   },
   "outputs": [
    {
     "data": {
      "text/plain": [
       "0.9746091307066916"
      ]
     },
     "execution_count": 11,
     "metadata": {},
     "output_type": "execute_result"
    }
   ],
   "source": [
    "mt.recall_score(y_train,y_pred, pos_label='Negar')"
   ]
  },
  {
   "cell_type": "markdown",
   "id": "4a001872",
   "metadata": {
    "ExecuteTime": {
     "end_time": "2023-02-13T22:15:26.151462Z",
     "start_time": "2023-02-13T22:15:26.149138Z"
    }
   },
   "source": [
    "### 4.5 Fine Tunning"
   ]
  },
  {
   "cell_type": "code",
   "execution_count": 12,
   "id": "dc0330ec",
   "metadata": {
    "ExecuteTime": {
     "end_time": "2023-02-17T13:25:18.207075Z",
     "start_time": "2023-02-17T13:25:12.287370Z"
    }
   },
   "outputs": [],
   "source": [
    "neighbors = []\n",
    "accuracy = []\n",
    "precision = []\n",
    "recall = []\n",
    "N = [3,5,7,9,11,13,15,17,19,21,23,25,111]\n",
    "\n",
    "for k in N:\n",
    "    knn_classifier = KNeighborsClassifier(n_neighbors=k)\n",
    "    knn_classifier.fit(x_train , y_train)\n",
    "\n",
    "    #previssao\n",
    "    y_pred = knn_classifier.predict(x_train)\n",
    "    \n",
    "    neighbors.append(k)\n",
    "    accuracy.append(mt.accuracy_score(y_train.values,y_pred))\n",
    "    precision.append(mt.precision_score(y_train,y_pred, pos_label='Negar'))\n",
    "    recall.append(mt.recall_score(y_train,y_pred, pos_label='Negar'))\n",
    "    \n",
    "    \n",
    "result_raw = {'neighbors': neighbors,\n",
    "          'accuracy': accuracy,\n",
    "          'precision': precision,\n",
    "          'recall': recall }\n",
    "result = pd.DataFrame.from_dict(result_raw)"
   ]
  },
  {
   "cell_type": "code",
   "execution_count": 13,
   "id": "768b1f44",
   "metadata": {
    "ExecuteTime": {
     "end_time": "2023-02-17T13:25:18.214762Z",
     "start_time": "2023-02-17T13:25:18.208458Z"
    }
   },
   "outputs": [
    {
     "data": {
      "text/html": [
       "<div>\n",
       "<style scoped>\n",
       "    .dataframe tbody tr th:only-of-type {\n",
       "        vertical-align: middle;\n",
       "    }\n",
       "\n",
       "    .dataframe tbody tr th {\n",
       "        vertical-align: top;\n",
       "    }\n",
       "\n",
       "    .dataframe thead th {\n",
       "        text-align: right;\n",
       "    }\n",
       "</style>\n",
       "<table border=\"1\" class=\"dataframe\">\n",
       "  <thead>\n",
       "    <tr style=\"text-align: right;\">\n",
       "      <th></th>\n",
       "      <th>neighbors</th>\n",
       "      <th>accuracy</th>\n",
       "      <th>precision</th>\n",
       "      <th>recall</th>\n",
       "    </tr>\n",
       "  </thead>\n",
       "  <tbody>\n",
       "    <tr>\n",
       "      <th>0</th>\n",
       "      <td>3</td>\n",
       "      <td>0.89</td>\n",
       "      <td>0.91</td>\n",
       "      <td>0.96</td>\n",
       "    </tr>\n",
       "    <tr>\n",
       "      <th>1</th>\n",
       "      <td>5</td>\n",
       "      <td>0.87</td>\n",
       "      <td>0.88</td>\n",
       "      <td>0.97</td>\n",
       "    </tr>\n",
       "    <tr>\n",
       "      <th>2</th>\n",
       "      <td>7</td>\n",
       "      <td>0.86</td>\n",
       "      <td>0.87</td>\n",
       "      <td>0.97</td>\n",
       "    </tr>\n",
       "    <tr>\n",
       "      <th>3</th>\n",
       "      <td>9</td>\n",
       "      <td>0.85</td>\n",
       "      <td>0.87</td>\n",
       "      <td>0.98</td>\n",
       "    </tr>\n",
       "    <tr>\n",
       "      <th>4</th>\n",
       "      <td>11</td>\n",
       "      <td>0.85</td>\n",
       "      <td>0.86</td>\n",
       "      <td>0.98</td>\n",
       "    </tr>\n",
       "    <tr>\n",
       "      <th>5</th>\n",
       "      <td>13</td>\n",
       "      <td>0.85</td>\n",
       "      <td>0.86</td>\n",
       "      <td>0.98</td>\n",
       "    </tr>\n",
       "    <tr>\n",
       "      <th>6</th>\n",
       "      <td>15</td>\n",
       "      <td>0.85</td>\n",
       "      <td>0.86</td>\n",
       "      <td>0.98</td>\n",
       "    </tr>\n",
       "    <tr>\n",
       "      <th>7</th>\n",
       "      <td>17</td>\n",
       "      <td>0.85</td>\n",
       "      <td>0.86</td>\n",
       "      <td>0.99</td>\n",
       "    </tr>\n",
       "    <tr>\n",
       "      <th>8</th>\n",
       "      <td>19</td>\n",
       "      <td>0.85</td>\n",
       "      <td>0.85</td>\n",
       "      <td>0.99</td>\n",
       "    </tr>\n",
       "    <tr>\n",
       "      <th>9</th>\n",
       "      <td>21</td>\n",
       "      <td>0.85</td>\n",
       "      <td>0.85</td>\n",
       "      <td>0.99</td>\n",
       "    </tr>\n",
       "    <tr>\n",
       "      <th>10</th>\n",
       "      <td>23</td>\n",
       "      <td>0.85</td>\n",
       "      <td>0.85</td>\n",
       "      <td>0.99</td>\n",
       "    </tr>\n",
       "    <tr>\n",
       "      <th>11</th>\n",
       "      <td>25</td>\n",
       "      <td>0.84</td>\n",
       "      <td>0.85</td>\n",
       "      <td>0.99</td>\n",
       "    </tr>\n",
       "    <tr>\n",
       "      <th>12</th>\n",
       "      <td>111</td>\n",
       "      <td>0.84</td>\n",
       "      <td>0.85</td>\n",
       "      <td>0.99</td>\n",
       "    </tr>\n",
       "  </tbody>\n",
       "</table>\n",
       "</div>"
      ],
      "text/plain": [
       "    neighbors  accuracy  precision  recall\n",
       "0           3      0.89       0.91    0.96\n",
       "1           5      0.87       0.88    0.97\n",
       "2           7      0.86       0.87    0.97\n",
       "3           9      0.85       0.87    0.98\n",
       "4          11      0.85       0.86    0.98\n",
       "5          13      0.85       0.86    0.98\n",
       "6          15      0.85       0.86    0.98\n",
       "7          17      0.85       0.86    0.99\n",
       "8          19      0.85       0.85    0.99\n",
       "9          21      0.85       0.85    0.99\n",
       "10         23      0.85       0.85    0.99\n",
       "11         25      0.84       0.85    0.99\n",
       "12        111      0.84       0.85    0.99"
      ]
     },
     "execution_count": 13,
     "metadata": {},
     "output_type": "execute_result"
    }
   ],
   "source": [
    "result"
   ]
  }
 ],
 "metadata": {
  "kernelspec": {
   "display_name": "Python 3 (ipykernel)",
   "language": "python",
   "name": "python3"
  },
  "language_info": {
   "codemirror_mode": {
    "name": "ipython",
    "version": 3
   },
   "file_extension": ".py",
   "mimetype": "text/x-python",
   "name": "python",
   "nbconvert_exporter": "python",
   "pygments_lexer": "ipython3",
   "version": "3.10.7"
  }
 },
 "nbformat": 4,
 "nbformat_minor": 5
}
