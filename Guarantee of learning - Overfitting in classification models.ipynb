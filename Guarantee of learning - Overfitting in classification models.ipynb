{
 "cells": [
  {
   "cell_type": "markdown",
   "id": "d176a0c6",
   "metadata": {},
   "source": [
    "# Garantia de aprendizagem e Overfitting\n",
    "    Garantia de aprendizagem e overfitting são dois conceitos fundamentais em modelos de classificação na aprendizagem de máquina, representando dois lados de uma mesma moeda.\n",
    "\n",
    "    A garantia de aprendizagem foca na capacidade do modelo de generalizar bem, ou seja, de aplicar o que aprendeu com os dados de treinamento para prever ou classificar dados novos e desconhecidos de forma eficaz. Um modelo com boa garantia de aprendizagem é capaz de identificar e aprender padrões verdadeiramente representativos dos dados, sem ser influenciado por peculiaridades ou ruídos específicos do conjunto de treinamento.\n",
    "\n",
    "    Por outro lado, overfitting ocorre quando um modelo aprende demais dos dados de treinamento, incluindo ruídos e detalhes que não são representativos do conjunto de dados geral. Isso leva a uma performance excepcional nos dados de treinamento, mas a resultados pobres em dados novos, pois o modelo falha em generalizar o que aprendeu.\n",
    "\n",
    "    Portanto, o desafio na construção de modelos de classificação eficazes é encontrar um equilíbrio entre garantir uma aprendizagem suficiente para capturar as tendências principais dos dados e, ao mesmo tempo, evitar o overfitting que restringe a capacidade do modelo de se adaptar a novas informações. Este equilíbrio é frequentemente alcançado através de técnicas como validação cruzada, regularização, e escolhendo a complexidade do modelo apropriada para a quantidade e variedade de dados disponíveis.\n",
    "    "
   ]
  },
  {
   "cell_type": "markdown",
   "id": "c3400cd2",
   "metadata": {
    "ExecuteTime": {
     "end_time": "2024-01-04T16:11:05.584178Z",
     "start_time": "2024-01-04T16:11:04.884569Z"
    }
   },
   "source": [
    "    Neste projeto usei dados sintéticos e procurei de forma simples e didatica exemplificar os conecitos acima mencionados."
   ]
  },
  {
   "cell_type": "code",
   "execution_count": 1,
   "id": "0668a4f6",
   "metadata": {
    "ExecuteTime": {
     "end_time": "2024-01-04T17:20:57.512495Z",
     "start_time": "2024-01-04T17:20:53.384917Z"
    }
   },
   "outputs": [],
   "source": [
    "import pandas                            as pd\n",
    "import numpy                             as np\n",
    "\n",
    "from   sklearn    import datasets        as ds\n",
    "from   sklearn    import model_selection as ms\n",
    "from   sklearn    import tree            as tr\n",
    "from   sklearn    import metrics         as mt\n",
    "from   matplotlib import pyplot          as plt"
   ]
  },
  {
   "cell_type": "code",
   "execution_count": 2,
   "id": "3bf0b92e",
   "metadata": {
    "ExecuteTime": {
     "end_time": "2024-01-04T17:20:57.547171Z",
     "start_time": "2024-01-04T17:20:57.513847Z"
    }
   },
   "outputs": [],
   "source": [
    "#Gerando dados sinteticos\n",
    "#Generating Synthetic Data\n",
    "\n",
    "n_samples = 20000\n",
    "n_features = 2\n",
    "n_informative = 2\n",
    "n_redundant= 0\n",
    "random_state = 42\n",
    "\n",
    "#dataset\n",
    "X,y = ds.make_classification(n_samples = n_samples,\n",
    "                    n_features= n_features,\n",
    "                    n_informative= n_informative,\n",
    "                    n_redundant= n_redundant,\n",
    "                    random_state=random_state\n",
    "                    )\n",
    "\n",
    "# Dados de produção, serão os \"dados novos\"\n",
    "# production dataset\n",
    "X, X_prod,y, y_prod = ms.train_test_split(X, y, test_size=0.2, random_state=random_state)"
   ]
  },
  {
   "cell_type": "code",
   "execution_count": 3,
   "id": "71762687",
   "metadata": {
    "ExecuteTime": {
     "end_time": "2024-01-04T17:20:57.555208Z",
     "start_time": "2024-01-04T17:20:57.549177Z"
    }
   },
   "outputs": [
    {
     "data": {
      "text/plain": [
       "(16000, 2)"
      ]
     },
     "execution_count": 3,
     "metadata": {},
     "output_type": "execute_result"
    }
   ],
   "source": [
    "X.shape"
   ]
  },
  {
   "cell_type": "code",
   "execution_count": 4,
   "id": "d5f080ae",
   "metadata": {
    "ExecuteTime": {
     "end_time": "2024-01-04T17:20:57.681215Z",
     "start_time": "2024-01-04T17:20:57.556215Z"
    }
   },
   "outputs": [
    {
     "name": "stdout",
     "output_type": "stream",
     "text": [
      "Accuracy of model on train data is 1.0\n",
      "Accuracy of model on new data is 0.884\n"
     ]
    }
   ],
   "source": [
    "# Treinando e medindo a precisão de um modelo com os mesmos dados:\n",
    "# Training and calculating the precision of a model using the same data:\n",
    "\n",
    "model = tr.DecisionTreeClassifier(max_depth=38) # Parametro escolhido de forma aleatória\n",
    "model.fit(X,y)\n",
    "\n",
    "\n",
    "yhat = model.predict(X)\n",
    "acc = mt.accuracy_score(y, yhat)\n",
    "print('Accuracy of model on train data is {}'.format(acc)) # O modelo acertou 100% dos dados\n",
    "\n",
    "yhat_prod = model.predict(X_prod)\n",
    "acc_prod = mt.accuracy_score(y_prod, yhat_prod)\n",
    "print('Accuracy of model on new data is {}'.format(acc_prod))"
   ]
  },
  {
   "cell_type": "markdown",
   "id": "afc31037",
   "metadata": {
    "ExecuteTime": {
     "end_time": "2023-03-10T21:05:48.366056Z",
     "start_time": "2023-03-10T21:05:48.360455Z"
    }
   },
   "source": [
    "## Estrategy Train - Test"
   ]
  },
  {
   "cell_type": "markdown",
   "id": "fd703e30",
   "metadata": {},
   "source": [
    "&emsp;Existe uma estratégia para medir a capacidade de generalização de um algoritmo de Machine Learning do que colocá-lo diretamente em Produção.\n",
    "&emsp;Essa estratégia consiste em separar um conjunto de dados em 2 subconjuntos:Treinamento e Teste.\n",
    "A separação dos dados em conjunto de treinamento e teste deve ser feita de\n",
    "maneira aleatória, mantendo a proporção original dos exemplos entre as\n",
    "classes. Por exemplo:\n",
    "1. Conjunto de dados original ( 100% dos dados )\n",
    "a. 25 colunas e 10.000 linhas\n",
    "b. 60% classe A e 40% classe B\n",
    "2. Conjunto de dados de treino ( 70% dos dados originais )\n",
    "a. 25 colunas e 7.000 linhas\n",
    "b. 60% classe A e 40% classe B\n",
    "3. Conjunto de dados de validação ( 15% dos dados originais )\n",
    "a. 25 colunas e 1.500 linhas\n",
    "b. 60% classe A e 40% classe B\n",
    "4. Conjunto de dados de teste ( 15% dos dados originais )\n",
    "a. 25 colunas e 1.500 linhas\n",
    "b. 60% classe A e 40% classe B\n",
    "\n",
    "\n",
    "&emsp;There is a strategy for measuring the generalization ability of a Machine Learning algorithm other than putting it directly into production.\n",
    "This strategy involves dividing a dataset into two subsets: Training and Testing.\n",
    "The separation of the data into training and test sets should be done randomly, maintaining the original proportion of examples among the classes. For example:\n",
    "\n",
    "1. Original dataset (100% of the data)\n",
    "a. 25 columns and 10,000 rows\n",
    "b. 60% class A and 40% class B\n",
    "2. Training dataset (70% of the original data)\n",
    "a. 25 columns and 7,000 rows\n",
    "b. 60% class A and 40% class B\n",
    "3. Validation dataset (15% of the original data)\n",
    "a. 25 columns and 1,500 rows\n",
    "b. 60% class A and 40% class B\n",
    "4. Test dataset (15% of the original data)\n",
    "a. 25 columns and 1,500 rows\n",
    "b. 60% class A and 40% class B"
   ]
  },
  {
   "cell_type": "code",
   "execution_count": 5,
   "id": "dd8a061c",
   "metadata": {
    "ExecuteTime": {
     "end_time": "2024-01-04T17:20:57.688220Z",
     "start_time": "2024-01-04T17:20:57.682219Z"
    }
   },
   "outputs": [],
   "source": [
    "#Separando treino e teste\n",
    "X_train,x_test, y_train, y_test = ms.train_test_split(X, y, test_size=0.2,random_state=random_state)"
   ]
  },
  {
   "cell_type": "code",
   "execution_count": 6,
   "id": "de974931",
   "metadata": {
    "ExecuteTime": {
     "end_time": "2024-01-04T17:20:57.783122Z",
     "start_time": "2024-01-04T17:20:57.689226Z"
    }
   },
   "outputs": [
    {
     "name": "stdout",
     "output_type": "stream",
     "text": [
      "Acuracy over test: 0.880\n"
     ]
    }
   ],
   "source": [
    "# Modelo treinado com os dados de treinamento\n",
    "# Parametro escolhido de forma aleatoria\n",
    "model = tr.DecisionTreeClassifier(max_depth=38)\n",
    "model.fit(X_train,y_train)\n",
    "\n",
    "#classificação sobre os dados de teste\n",
    "yhat_test = model.predict(x_test)\n",
    "acc_test = mt.accuracy_score(y_test,yhat_test)\n",
    "print(f\"Acuracy over test: {acc_test:.3f}\")"
   ]
  },
  {
   "cell_type": "code",
   "execution_count": 7,
   "id": "8bf13ef2",
   "metadata": {
    "ExecuteTime": {
     "end_time": "2024-01-04T17:21:02.540016Z",
     "start_time": "2024-01-04T17:20:57.784126Z"
    }
   },
   "outputs": [
    {
     "data": {
      "image/png": "[encoded data removed]",
      "text/plain": [
       "<Figure size 640x480 with 1 Axes>"
      ]
     },
     "metadata": {},
     "output_type": "display_data"
    }
   ],
   "source": [
    "#tuning\n",
    "values = [i for i in range(1,60)]\n",
    "test_score = list()\n",
    "for i in values:\n",
    "    model = tr.DecisionTreeClassifier(max_depth=i)\n",
    "    model.fit(X_train,y_train)\n",
    "    \n",
    "    # classificação sobre o teste\n",
    "    yhat_test = model.predict(x_test)\n",
    "    acc_test = mt.accuracy_score(y_test,yhat_test)\n",
    "    test_score.append(acc_test)\n",
    "plt.plot(values, test_score, '-o', label = 'test');\n",
    "plt.xlabel('N max depth')\n",
    "plt.ylabel('Accuracy')\n",
    "plt.title('Teste');"
   ]
  },
  {
   "cell_type": "code",
   "execution_count": 8,
   "id": "86b77682",
   "metadata": {
    "ExecuteTime": {
     "end_time": "2024-01-04T17:21:02.605613Z",
     "start_time": "2024-01-04T17:21:02.545023Z"
    }
   },
   "outputs": [
    {
     "name": "stdout",
     "output_type": "stream",
     "text": [
      "Accuracy of model on test data is 0.8809375\n",
      "Accuracy of model on new data is 0.914\n"
     ]
    }
   ],
   "source": [
    "# Treinar um novo modelo com os parametros que melhor desempenharam com o conjunto de dados de treino\n",
    "# Juntar todos os dados possiveis\n",
    "# Avaliar o modelo com os dados de produção\n",
    "# trained model\n",
    "model_last = tr.DecisionTreeClassifier(max_depth=6)\n",
    "model_last.fit(np.concatenate((X_train,x_test)), \n",
    "               np.concatenate((y_train,y_test)))\n",
    "yhat_prod = model_last.predict(X_prod)\n",
    "acc_prod = mt.accuracy_score(y_prod,yhat_prod)\n",
    "print('Accuracy of model on test data is {}'.format(acc_test))\n",
    "print('Accuracy of model on new data is {}'.format(acc_prod))"
   ]
  },
  {
   "cell_type": "markdown",
   "id": "bda0d268",
   "metadata": {
    "ExecuteTime": {
     "end_time": "2024-01-03T19:01:58.975514Z",
     "start_time": "2024-01-03T19:01:58.971922Z"
    }
   },
   "source": [
    "O problema da divisão treino-teste na escolha de parâmetros é que se os parâmetros são ajustados com base nos dados de teste, \n",
    "ocorre um vazamento de dados. Isso compromete a avaliação imparcial do modelo, \n",
    " pois ele é otimizado para funcionar bem nos dados de teste específicos,\n",
    " e não necessariamente em dados novos. Para evitar isso,\n",
    " é melhor usar um conjunto de validação separado para ajustar os parâmetros, \n",
    "mantendo o conjunto de teste para a avaliação final.\n",
    "\n",
    "   The issue with the train-test split in parameter selection is that if parameters \n",
    " are adjusted based on test data, it leads to data leakage. \n",
    " This compromises the impartial evaluation of the model, as it is optimized \n",
    " to perform well on the specific test data, and not necessarily on new data. \n",
    " To avoid this, it's better to use a separate validation set for parameter tuning, \n",
    " keeping the test set for the final evaluation."
   ]
  },
  {
   "cell_type": "markdown",
   "id": "e9966049",
   "metadata": {
    "heading_collapsed": true
   },
   "source": [
    "## Train - Test - Validation"
   ]
  },
  {
   "cell_type": "markdown",
   "id": "6a3c177d",
   "metadata": {},
   "source": [
    "A separação dos dados em conjunto de treinamento, teste e validação deve ser feita de\n",
    "maneira aleatória, mantendo a proporção original dos exemplos entre as\n",
    "classes. Por exemplo:\n",
    "1. Conjunto de dados original ( 100% dos dados )\n",
    "a. 25 colunas e 10.000 linhas\n",
    "b. 60% classe A e 40% classe B\n",
    "2. Conjunto de dados de treino ( 70% dos dados originais )\n",
    "a. 25 colunas e 7.000 linhas\n",
    "b. 60% classe A e 40% classe B\n",
    "3. Conjunto de dados de validação ( 15% dos dados originais )\n",
    "a. 25 colunas e 1.500 linhas\n",
    "b. 60% classe A e 40% classe B\n",
    "4. Conjunto de dados de teste ( 15% dos dados originais )\n",
    "a. 25 colunas e 1.500 linhas\n",
    "b. 60% classe A e 40% classe B\n",
    "\n",
    "The division of data into training, testing, and validation sets should be done randomly, while maintaining the original proportion of examples among the classes. For example:\n",
    "\n",
    "1. Original dataset (100% of the data)\n",
    "a. 25 columns and 10,000 rows\n",
    "b. 60% class A and 40% class B\n",
    "2. Training dataset (70% of the original data)\n",
    "a. 25 columns and 7,000 rows\n",
    "b. 60% class A and 40% class B\n",
    "3. Validation dataset (15% of the original data)\n",
    "a. 25 columns and 1,500 rows\n",
    "b. 60% class A and 40% class B\n",
    "4. Testing dataset (15% of the original data)\n",
    "a. 25 columns and 1,500 rows\n",
    "b. 60% class A and 40% class B\n"
   ]
  },
  {
   "cell_type": "code",
   "execution_count": 9,
   "id": "cc6d1104",
   "metadata": {
    "ExecuteTime": {
     "end_time": "2024-01-04T17:21:02.618717Z",
     "start_time": "2024-01-04T17:21:02.609622Z"
    },
    "hidden": true
   },
   "outputs": [],
   "source": [
    "X_train,x_val, y_train, y_val = ms.train_test_split(X_train,y_train, test_size= 0.2)"
   ]
  },
  {
   "cell_type": "code",
   "execution_count": 10,
   "id": "04d77123",
   "metadata": {
    "ExecuteTime": {
     "end_time": "2024-01-04T17:21:04.961515Z",
     "start_time": "2024-01-04T17:21:02.619725Z"
    },
    "hidden": true,
    "scrolled": false
   },
   "outputs": [
    {
     "data": {
      "image/png": "[encoded data removed]",
      "text/plain": [
       "<Figure size 640x480 with 1 Axes>"
      ]
     },
     "metadata": {},
     "output_type": "display_data"
    }
   ],
   "source": [
    "#tuning\n",
    "values = [i for i in range(1,40)]\n",
    "train_score, val_score = list(), list()\n",
    "for i in values:\n",
    "    model = tr.DecisionTreeClassifier(max_depth=i)\n",
    "    model.fit(X_train,y_train)  \n",
    "    yhat_train = model.predict(X_train)\n",
    "    yhat_val = model.predict(x_val)\n",
    "    acc_train = mt.accuracy_score(y_train,yhat_train)\n",
    "    acc_val = mt.accuracy_score(y_val,yhat_val)\n",
    "    train_score.append(acc_train)\n",
    "    val_score.append(acc_val)\n",
    "    \n",
    "plt.plot(values, val_score, '-o', label = 'Val');\n",
    "plt.plot(values, train_score, '-o', label = 'Train')\n",
    "plt.xlabel('N Max depth')\n",
    "plt.ylabel('Accuracy')\n",
    "plt.title('Adjust parameters accuracy')\n",
    "plt.legend()\n",
    "plt.show()"
   ]
  },
  {
   "cell_type": "markdown",
   "id": "9b573589",
   "metadata": {},
   "source": [
    "\"Este gráfico serve como um exemplo didático para demonstrar a relação entre a Max depth (profundidade da árvore de decisão) e a acurácia do modelo em dois conjuntos de dados: treinamento e validação. À medida que a profundidade da árvore aumenta, nota-se que a acurácia nos dados de treinamento permanece alta ou até melhora, indicando um bom ajuste do modelo a esses dados. Por outro lado, a acurácia nos dados de validação começa a cair após um certo ponto, revelando uma divergência entre os dois conjuntos. Este padrão é um sintoma clássico de \"overfitting\", onde o modelo se torna excessivamente especializado nos dados de treino, perdendo a capacidade de generalizar para novos dados. É importante destacar que este é um exemplo simplificado para fins didaticos. Na prática, o modelo em questão possui múltiplos parâmetros que podem afetar seu desempenho e que precisam ser considerados em conjunto para evitar o sobreajuste e garantir uma generalização eficaz.\"\n",
    "\n",
    "\n",
    "\"This graph serves as a didactic example to demonstrate the relationship between the Max depth (decision tree depth) and the accuracy of the model on two data sets: training and validation. As the depth of the tree increases, it is noted that the accuracy in the training data remains high or even improves, indicating a good fit of the model to these data. On the other hand, the accuracy in the validation data begins to fall after a certain point, revealing a divergence between the two sets. This pattern is a classic symptom of 'overfitting', where the model becomes overly specialized in the training data, losing the ability to generalize to new data. It is important to highlight that this is a simplified example for educational purposes. In practice, the model in question has multiple parameters that can affect its performance and that need to be considered together to avoid overfitting and ensure effective generalization.\"\n"
   ]
  },
  {
   "cell_type": "code",
   "execution_count": 11,
   "id": "a28ccfba",
   "metadata": {
    "ExecuteTime": {
     "end_time": "2024-01-04T17:21:05.008986Z",
     "start_time": "2024-01-04T17:21:04.962521Z"
    },
    "hidden": true
   },
   "outputs": [],
   "source": [
    "#model trained with train + test\n",
    "model_last = tr.DecisionTreeClassifier(max_depth=5)\n",
    "model_last.fit(np.concatenate((X_train,x_val)),\n",
    "               np.concatenate((y_train,y_val)))\n",
    "\n",
    "yhat_val = model_last.predict(x_val)\n",
    "yhat_test = model_last.predict(x_test)\n",
    "acc_val = mt.accuracy_score(y_val,yhat_val)\n",
    "acc_test = mt.accuracy_score(y_test,yhat_test)\n",
    "yhat_prod = model_last.predict(X_prod)\n",
    "acc_prod = mt.accuracy_score(y_prod,yhat_prod)"
   ]
  },
  {
   "cell_type": "code",
   "execution_count": 12,
   "id": "657639a4",
   "metadata": {
    "ExecuteTime": {
     "end_time": "2024-01-04T17:21:05.014652Z",
     "start_time": "2024-01-04T17:21:05.010995Z"
    },
    "hidden": true
   },
   "outputs": [
    {
     "name": "stdout",
     "output_type": "stream",
     "text": [
      "Accuracy of model on validations data is 0.91875\n",
      "Accuracy of model on test data is 0.910625\n",
      "Accuracy of model on new data is 0.91\n"
     ]
    }
   ],
   "source": [
    "print('Accuracy of model on validations data is {}'.format(acc_val))\n",
    "print('Accuracy of model on test data is {}'.format(acc_test))\n",
    "print('Accuracy of model on new data is {}'.format(acc_prod))"
   ]
  }
 ],
 "metadata": {
  "kernelspec": {
   "display_name": "Python 3 (ipykernel)",
   "language": "python",
   "name": "python3"
  },
  "language_info": {
   "codemirror_mode": {
    "name": "ipython",
    "version": 3
   },
   "file_extension": ".py",
   "mimetype": "text/x-python",
   "name": "python",
   "nbconvert_exporter": "python",
   "pygments_lexer": "ipython3",
   "version": "3.12.0"
  }
 },
 "nbformat": 4,
 "nbformat_minor": 5
}
