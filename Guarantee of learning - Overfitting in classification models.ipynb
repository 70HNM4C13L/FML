{
 "cells": [
  {
   "cell_type": "code",
   "execution_count": 1,
   "id": "0668a4f6",
   "metadata": {
    "ExecuteTime": {
     "end_time": "2023-03-13T21:22:16.167086Z",
     "start_time": "2023-03-13T21:22:15.315988Z"
    }
   },
   "outputs": [],
   "source": [
    "import pandas                            as pd\n",
    "import numpy                             as np\n",
    "\n",
    "from   sklearn    import datasets        as ds\n",
    "from   sklearn    import model_selection as ms\n",
    "from   sklearn    import tree            as tr\n",
    "from   sklearn    import metrics         as mt\n",
    "from   matplotlib import pyplot          as plt"
   ]
  },
  {
   "cell_type": "code",
   "execution_count": 2,
   "id": "3bf0b92e",
   "metadata": {
    "ExecuteTime": {
     "end_time": "2023-03-13T21:22:16.175693Z",
     "start_time": "2023-03-13T21:22:16.168360Z"
    }
   },
   "outputs": [],
   "source": [
    "n_samples = 20000\n",
    "n_features = 2\n",
    "n_informative = 2\n",
    "n_redundant= 0\n",
    "random_state = 42\n",
    "\n",
    "X,y = ds.make_classification(n_samples = n_samples,\n",
    "                    n_features= n_features,\n",
    "                    n_informative= n_informative,\n",
    "                    n_redundant= n_redundant,\n",
    "                    random_state=random_state\n",
    "                    )\n",
    "\n",
    "X, X_prod,y, y_prod = ms.train_test_split(X, y, test_size=0.2, random_state=random_state)"
   ]
  },
  {
   "cell_type": "code",
   "execution_count": 3,
   "id": "d5f080ae",
   "metadata": {
    "ExecuteTime": {
     "end_time": "2023-03-13T21:22:16.224612Z",
     "start_time": "2023-03-13T21:22:16.177916Z"
    }
   },
   "outputs": [
    {
     "name": "stdout",
     "output_type": "stream",
     "text": [
      "Accuracy of model on train data is 1.0\n",
      "Accuracy of model on new data is 0.8815\n"
     ]
    }
   ],
   "source": [
    "model = tr.DecisionTreeClassifier(max_depth=38)\n",
    "model.fit(X,y)\n",
    "\n",
    "\n",
    "yhat = model.predict(X)\n",
    "acc = mt.accuracy_score(y, yhat)\n",
    "print('Accuracy of model on train data is {}'.format(acc))\n",
    "\n",
    "yhat_prod = model.predict(X_prod)\n",
    "acc_prod = mt.accuracy_score(y_prod, yhat_prod)\n",
    "print('Accuracy of model on new data is {}'.format(acc_prod))"
   ]
  },
  {
   "cell_type": "markdown",
   "id": "afc31037",
   "metadata": {
    "ExecuteTime": {
     "end_time": "2023-03-10T21:05:48.366056Z",
     "start_time": "2023-03-10T21:05:48.360455Z"
    }
   },
   "source": [
    "## Estrategy Train - Test"
   ]
  },
  {
   "cell_type": "code",
   "execution_count": 4,
   "id": "dd8a061c",
   "metadata": {
    "ExecuteTime": {
     "end_time": "2023-03-13T21:22:16.228830Z",
     "start_time": "2023-03-13T21:22:16.225791Z"
    }
   },
   "outputs": [],
   "source": [
    "X_train,x_test, y_train, y_test = ms.train_test_split(X, y, test_size=0.2,random_state=random_state)"
   ]
  },
  {
   "cell_type": "code",
   "execution_count": 5,
   "id": "de974931",
   "metadata": {
    "ExecuteTime": {
     "end_time": "2023-03-13T21:22:16.266729Z",
     "start_time": "2023-03-13T21:22:16.230012Z"
    }
   },
   "outputs": [],
   "source": [
    "model = tr.DecisionTreeClassifier(max_depth=38)\n",
    "model.fit(X_train,y_train)\n",
    "yhat_test = model.predict(x_test)\n",
    "acc_test = mt.accuracy_score(y_test,yhat_test)"
   ]
  },
  {
   "cell_type": "code",
   "execution_count": 6,
   "id": "8bf13ef2",
   "metadata": {
    "ExecuteTime": {
     "end_time": "2023-03-13T21:22:17.940108Z",
     "start_time": "2023-03-13T21:22:16.267996Z"
    }
   },
   "outputs": [],
   "source": [
    "#tuning\n",
    "values = [i for i in range(1,60)]\n",
    "test_score = list()\n",
    "for i in values:\n",
    "    model = tr.DecisionTreeClassifier(max_depth=i)\n",
    "    model.fit(X_train,y_train)\n",
    "    yhat_test = model.predict(x_test)\n",
    "    acc_test = mt.accuracy_score(y_test,yhat_test)\n",
    "    test_score.append(acc_test)"
   ]
  },
  {
   "cell_type": "code",
   "execution_count": 7,
   "id": "f1ea1fd8",
   "metadata": {
    "ExecuteTime": {
     "end_time": "2023-03-13T21:22:18.048857Z",
     "start_time": "2023-03-13T21:22:17.941386Z"
    }
   },
   "outputs": [
    {
     "data": {
      "image/png": "[encoded data removed]",
      "text/plain": [
       "<Figure size 640x480 with 1 Axes>"
      ]
     },
     "metadata": {},
     "output_type": "display_data"
    }
   ],
   "source": [
    "plt.plot(values, test_score, '-o', label = 'test');"
   ]
  },
  {
   "cell_type": "code",
   "execution_count": 8,
   "id": "86b77682",
   "metadata": {
    "ExecuteTime": {
     "end_time": "2023-03-13T21:22:18.080247Z",
     "start_time": "2023-03-13T21:22:18.053133Z"
    }
   },
   "outputs": [
    {
     "name": "stdout",
     "output_type": "stream",
     "text": [
      "Accuracy of model on test data is 0.8803125\n",
      "Accuracy of model on new data is 0.91375\n"
     ]
    }
   ],
   "source": [
    "# trained model\n",
    "model_last = tr.DecisionTreeClassifier(max_depth=6)\n",
    "model_last.fit(np.concatenate((X_train,x_test)), \n",
    "               np.concatenate((y_train,y_test)))\n",
    "yhat_prod = model_last.predict(X_prod)\n",
    "acc_prod = mt.accuracy_score(y_prod,yhat_prod)\n",
    "print('Accuracy of model on test data is {}'.format(acc_test))\n",
    "print('Accuracy of model on new data is {}'.format(acc_prod))"
   ]
  },
  {
   "cell_type": "markdown",
   "id": "e9966049",
   "metadata": {
    "heading_collapsed": true
   },
   "source": [
    "## Train - Test - Validation"
   ]
  },
  {
   "cell_type": "code",
   "execution_count": 9,
   "id": "cc6d1104",
   "metadata": {
    "ExecuteTime": {
     "end_time": "2023-03-13T21:22:18.086083Z",
     "start_time": "2023-03-13T21:22:18.083093Z"
    },
    "hidden": true
   },
   "outputs": [],
   "source": [
    "X_train,x_val, y_train, y_val = ms.train_test_split(X_train,y_train, test_size= 0.2)"
   ]
  },
  {
   "cell_type": "code",
   "execution_count": 10,
   "id": "04d77123",
   "metadata": {
    "ExecuteTime": {
     "end_time": "2023-03-13T21:23:32.192342Z",
     "start_time": "2023-03-13T21:23:31.780722Z"
    },
    "hidden": true
   },
   "outputs": [
    {
     "data": {
      "image/png": "[encoded data removed]",
      "text/plain": [
       "<Figure size 640x480 with 1 Axes>"
      ]
     },
     "metadata": {},
     "output_type": "display_data"
    }
   ],
   "source": [
    "#tuning\n",
    "values = [i for i in range(1,20)]\n",
    "val_score = list()\n",
    "for i in values:\n",
    "    model = tr.DecisionTreeClassifier(max_depth=i)\n",
    "    model.fit(X_train,y_train)\n",
    "    \n",
    "    yhat_val = model.predict(x_val)\n",
    "    acc_val = mt.accuracy_score(y_val,yhat_val)\n",
    "    val_score.append(acc_val)\n",
    "plt.plot(values, val_score, '-o', label = 'Val');"
   ]
  },
  {
   "cell_type": "code",
   "execution_count": 11,
   "id": "2dd9edb1",
   "metadata": {
    "ExecuteTime": {
     "end_time": "2023-03-13T21:23:37.089270Z",
     "start_time": "2023-03-13T21:23:37.068459Z"
    },
    "hidden": true
   },
   "outputs": [
    {
     "data": {
      "text/plain": [
       "0.9078125"
      ]
     },
     "execution_count": 11,
     "metadata": {},
     "output_type": "execute_result"
    }
   ],
   "source": [
    "model = tr.DecisionTreeClassifier( max_depth = 7 )\n",
    "model.fit(X_train, y_train)\n",
    "yhat_val = model.predict(x_val)\n",
    "acc_val = mt.accuracy_score(y_val,yhat_val)\n",
    "acc_val"
   ]
  },
  {
   "cell_type": "code",
   "execution_count": 12,
   "id": "a28ccfba",
   "metadata": {
    "ExecuteTime": {
     "end_time": "2023-03-13T21:23:37.848553Z",
     "start_time": "2023-03-13T21:23:37.825118Z"
    },
    "hidden": true
   },
   "outputs": [
    {
     "data": {
      "text/plain": [
       "0.9109375"
      ]
     },
     "execution_count": 12,
     "metadata": {},
     "output_type": "execute_result"
    }
   ],
   "source": [
    "#model trained with train + validate\n",
    "model_last = tr.DecisionTreeClassifier(max_depth=7)\n",
    "model_last.fit(np.concatenate((X_train,x_val)),\n",
    "               np.concatenate((y_train,y_val)))\n",
    "yhat_test = model_last.predict(x_test)\n",
    "acc_test = mt.accuracy_score(y_test,yhat_test)\n",
    "acc_test"
   ]
  },
  {
   "cell_type": "code",
   "execution_count": 13,
   "id": "07d80d5c",
   "metadata": {
    "ExecuteTime": {
     "end_time": "2023-03-13T21:23:38.410954Z",
     "start_time": "2023-03-13T21:23:38.406471Z"
    },
    "hidden": true
   },
   "outputs": [
    {
     "data": {
      "text/plain": [
       "0.91325"
      ]
     },
     "execution_count": 13,
     "metadata": {},
     "output_type": "execute_result"
    }
   ],
   "source": [
    "yhat_prod = model_last.predict(X_prod)\n",
    "acc_prod = mt.accuracy_score(y_prod,yhat_prod)\n",
    "acc_prod"
   ]
  },
  {
   "cell_type": "code",
   "execution_count": 14,
   "id": "657639a4",
   "metadata": {
    "ExecuteTime": {
     "end_time": "2023-03-13T21:23:39.046374Z",
     "start_time": "2023-03-13T21:23:39.043326Z"
    },
    "hidden": true
   },
   "outputs": [
    {
     "name": "stdout",
     "output_type": "stream",
     "text": [
      "Accuracy of model on validations data is 0.9078125\n",
      "Accuracy of model on test data is 0.9109375\n",
      "Accuracy of model on new data is 0.91325\n"
     ]
    }
   ],
   "source": [
    "print('Accuracy of model on validations data is {}'.format(acc_val))\n",
    "print('Accuracy of model on test data is {}'.format(acc_test))\n",
    "print('Accuracy of model on new data is {}'.format(acc_prod))"
   ]
  },
  {
   "cell_type": "code",
   "execution_count": null,
   "id": "2a19b1e5",
   "metadata": {
    "hidden": true
   },
   "outputs": [],
   "source": []
  }
 ],
 "metadata": {
  "kernelspec": {
   "display_name": "Python 3 (ipykernel)",
   "language": "python",
   "name": "python3"
  },
  "language_info": {
   "codemirror_mode": {
    "name": "ipython",
    "version": 3
   },
   "file_extension": ".py",
   "mimetype": "text/x-python",
   "name": "python",
   "nbconvert_exporter": "python",
   "pygments_lexer": "ipython3",
   "version": "3.10.7"
  }
 },
 "nbformat": 4,
 "nbformat_minor": 5
}
