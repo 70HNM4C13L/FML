{
 "cells": [
  {
   "cell_type": "code",
   "execution_count": 110,
   "id": "0668a4f6",
   "metadata": {
    "ExecuteTime": {
     "end_time": "2023-12-01T13:07:23.375191Z",
     "start_time": "2023-12-01T13:07:23.371415Z"
    }
   },
   "outputs": [],
   "source": [
    "import pandas                            as pd\n",
    "import numpy                             as np\n",
    "\n",
    "from   sklearn    import datasets        as ds\n",
    "from   sklearn    import model_selection as ms\n",
    "from   sklearn    import tree            as tr\n",
    "from   sklearn    import metrics         as mt\n",
    "from   matplotlib import pyplot          as plt"
   ]
  },
  {
   "cell_type": "code",
   "execution_count": 111,
   "id": "3bf0b92e",
   "metadata": {
    "ExecuteTime": {
     "end_time": "2023-12-01T13:07:23.679721Z",
     "start_time": "2023-12-01T13:07:23.658835Z"
    }
   },
   "outputs": [],
   "source": [
    "#Gerando dados sinteticos\n",
    "#Generating Synthetic Data\n",
    "\n",
    "n_samples = 20000\n",
    "n_features = 2\n",
    "n_informative = 2\n",
    "n_redundant= 0\n",
    "random_state = 42\n",
    "\n",
    "#dataset\n",
    "X,y = ds.make_classification(n_samples = n_samples,\n",
    "                    n_features= n_features,\n",
    "                    n_informative= n_informative,\n",
    "                    n_redundant= n_redundant,\n",
    "                    random_state=random_state\n",
    "                    )\n",
    "\n",
    "# production dataset\n",
    "X, X_prod,y, y_prod = ms.train_test_split(X, y, test_size=0.2, random_state=random_state)"
   ]
  },
  {
   "cell_type": "code",
   "execution_count": 112,
   "id": "71762687",
   "metadata": {
    "ExecuteTime": {
     "end_time": "2023-12-01T13:07:24.688732Z",
     "start_time": "2023-12-01T13:07:24.683344Z"
    }
   },
   "outputs": [
    {
     "data": {
      "text/plain": [
       "(16000, 2)"
      ]
     },
     "execution_count": 112,
     "metadata": {},
     "output_type": "execute_result"
    }
   ],
   "source": [
    "X.shape"
   ]
  },
  {
   "cell_type": "code",
   "execution_count": 113,
   "id": "d5f080ae",
   "metadata": {
    "ExecuteTime": {
     "end_time": "2023-12-01T13:07:25.633521Z",
     "start_time": "2023-12-01T13:07:25.514701Z"
    }
   },
   "outputs": [
    {
     "name": "stdout",
     "output_type": "stream",
     "text": [
      "Accuracy of model on train data is 1.0\n",
      "Accuracy of model on new data is 0.88225\n"
     ]
    }
   ],
   "source": [
    "model = tr.DecisionTreeClassifier(max_depth=38)\n",
    "model.fit(X,y)\n",
    "\n",
    "\n",
    "yhat = model.predict(X)\n",
    "acc = mt.accuracy_score(y, yhat)\n",
    "print('Accuracy of model on train data is {}'.format(acc))\n",
    "\n",
    "yhat_prod = model.predict(X_prod)\n",
    "acc_prod = mt.accuracy_score(y_prod, yhat_prod)\n",
    "print('Accuracy of model on new data is {}'.format(acc_prod))"
   ]
  },
  {
   "cell_type": "markdown",
   "id": "afc31037",
   "metadata": {
    "ExecuteTime": {
     "end_time": "2023-03-10T21:05:48.366056Z",
     "start_time": "2023-03-10T21:05:48.360455Z"
    }
   },
   "source": [
    "## Estrategy Train - Test"
   ]
  },
  {
   "cell_type": "markdown",
   "id": "fd703e30",
   "metadata": {},
   "source": [
    "&emsp;Existe uma estratégia para medir a capacidade de generalização de um algoritmo de Machine Learning do que colocá-lo diretamente em Produção.\n",
    "&emsp;Essa estratégia consiste em separar um conjunto de dados em 2 subconjuntos:Treinamento e Teste.\n",
    "A separação dos dados em conjunto de treinamento e teste deve ser feita de\n",
    "maneira aleatória, mantendo a proporção original dos exemplos entre as\n",
    "classes. Por exemplo:\n",
    "1. Conjunto de dados original ( 100% dos dados )\n",
    "a. 25 colunas e 10.000 linhas\n",
    "b. 60% classe A e 40% classe B\n",
    "2. Conjunto de dados de treino ( 70% dos dados originais )\n",
    "a. 25 colunas e 7.000 linhas\n",
    "b. 60% classe A e 40% classe B\n",
    "3. Conjunto de dados de validação ( 15% dos dados originais )\n",
    "a. 25 colunas e 1.500 linhas\n",
    "b. 60% classe A e 40% classe B\n",
    "4. Conjunto de dados de teste ( 15% dos dados originais )\n",
    "a. 25 colunas e 1.500 linhas\n",
    "b. 60% classe A e 40% classe B\n",
    "\n",
    "\n",
    "&emsp;There is a strategy for measuring the generalization ability of a Machine Learning algorithm other than putting it directly into production.\n",
    "This strategy involves dividing a dataset into two subsets: Training and Testing.\n",
    "The separation of the data into training and test sets should be done randomly, maintaining the original proportion of examples among the classes. For example:\n",
    "\n",
    "1. Original dataset (100% of the data)\n",
    "a. 25 columns and 10,000 rows\n",
    "b. 60% class A and 40% class B\n",
    "2. Training dataset (70% of the original data)\n",
    "a. 25 columns and 7,000 rows\n",
    "b. 60% class A and 40% class B\n",
    "3. Validation dataset (15% of the original data)\n",
    "a. 25 columns and 1,500 rows\n",
    "b. 60% class A and 40% class B\n",
    "4. Test dataset (15% of the original data)\n",
    "a. 25 columns and 1,500 rows\n",
    "b. 60% class A and 40% class B"
   ]
  },
  {
   "cell_type": "code",
   "execution_count": 120,
   "id": "dd8a061c",
   "metadata": {
    "ExecuteTime": {
     "end_time": "2023-12-01T13:10:14.280752Z",
     "start_time": "2023-12-01T13:10:14.267499Z"
    }
   },
   "outputs": [],
   "source": [
    "#Separando treino e teste\n",
    "X_train,x_test, y_train, y_test = ms.train_test_split(X, y, test_size=0.2,random_state=random_state)"
   ]
  },
  {
   "cell_type": "code",
   "execution_count": 126,
   "id": "de974931",
   "metadata": {
    "ExecuteTime": {
     "end_time": "2023-12-01T13:13:58.009718Z",
     "start_time": "2023-12-01T13:13:57.914331Z"
    }
   },
   "outputs": [
    {
     "name": "stdout",
     "output_type": "stream",
     "text": [
      "Acuracy over test: 0.88\n"
     ]
    }
   ],
   "source": [
    "#Modelo treinado com os dados de treinamento\n",
    "model = tr.DecisionTreeClassifier(max_depth=38)\n",
    "model.fit(X_train,y_train)\n",
    "\n",
    "#classificação sobre os dados de teste\n",
    "yhat_test = model.predict(x_test)\n",
    "acc_test = mt.accuracy_score(y_test,yhat_test)\n",
    "print(f\"Acuracy over test: {acc_test:.2f}\")"
   ]
  },
  {
   "cell_type": "code",
   "execution_count": 129,
   "id": "8bf13ef2",
   "metadata": {
    "ExecuteTime": {
     "end_time": "2023-12-01T13:34:14.323906Z",
     "start_time": "2023-12-01T13:34:09.880128Z"
    }
   },
   "outputs": [],
   "source": [
    "#tuning\n",
    "values = [i for i in range(1,60)]\n",
    "test_score = list()\n",
    "for i in values:\n",
    "    model = tr.DecisionTreeClassifier(max_depth=i)\n",
    "    model.fit(X_train,y_train)\n",
    "    \n",
    "    # classificação sobre o teste\n",
    "    yhat_test = model.predict(x_test)\n",
    "    acc_test = mt.accuracy_score(y_test,yhat_test)\n",
    "    test_score.append(acc_test)"
   ]
  },
  {
   "cell_type": "code",
   "execution_count": 130,
   "id": "f1ea1fd8",
   "metadata": {
    "ExecuteTime": {
     "end_time": "2023-12-01T13:34:14.465042Z",
     "start_time": "2023-12-01T13:34:14.325917Z"
    }
   },
   "outputs": [
    {
     "data": {
      "image/png": "[encoded data removed]",
      "text/plain": [
       "<Figure size 640x480 with 1 Axes>"
      ]
     },
     "metadata": {},
     "output_type": "display_data"
    }
   ],
   "source": [
    "plt.plot(values, test_score, '-o', label = 'test');"
   ]
  },
  {
   "cell_type": "code",
   "execution_count": 137,
   "id": "86b77682",
   "metadata": {
    "ExecuteTime": {
     "end_time": "2023-12-01T13:52:25.887440Z",
     "start_time": "2023-12-01T13:52:25.828985Z"
    }
   },
   "outputs": [
    {
     "name": "stdout",
     "output_type": "stream",
     "text": [
      "Accuracy of model on test data is 0.8803125\n",
      "Accuracy of model on new data is 0.91275\n"
     ]
    }
   ],
   "source": [
    "# trained model\n",
    "model_last = tr.DecisionTreeClassifier(max_depth=6)\n",
    "model_last.fit(np.concatenate((X_train,x_test)), \n",
    "               np.concatenate((y_train,y_test)))\n",
    "yhat_prod = model_last.predict(X_prod)\n",
    "acc_prod = mt.accuracy_score(y_prod,yhat_prod)\n",
    "print('Accuracy of model on test data is {}'.format(acc_test))\n",
    "print('Accuracy of model on new data is {}'.format(acc_prod))"
   ]
  },
  {
   "cell_type": "markdown",
   "id": "e9966049",
   "metadata": {
    "heading_collapsed": true
   },
   "source": [
    "## Train - Test - Validation"
   ]
  },
  {
   "cell_type": "markdown",
   "id": "6a3c177d",
   "metadata": {},
   "source": [
    "A separação dos dados em conjunto de treinamento, teste e validação deve ser feita de\n",
    "maneira aleatória, mantendo a proporção original dos exemplos entre as\n",
    "classes. Por exemplo:\n",
    "1. Conjunto de dados original ( 100% dos dados )\n",
    "a. 25 colunas e 10.000 linhas\n",
    "b. 60% classe A e 40% classe B\n",
    "2. Conjunto de dados de treino ( 70% dos dados originais )\n",
    "a. 25 colunas e 7.000 linhas\n",
    "b. 60% classe A e 40% classe B\n",
    "3. Conjunto de dados de validação ( 15% dos dados originais )\n",
    "a. 25 colunas e 1.500 linhas\n",
    "b. 60% classe A e 40% classe B\n",
    "4. Conjunto de dados de teste ( 15% dos dados originais )\n",
    "a. 25 colunas e 1.500 linhas\n",
    "b. 60% classe A e 40% classe B\n"
   ]
  },
  {
   "cell_type": "code",
   "execution_count": 138,
   "id": "cc6d1104",
   "metadata": {
    "ExecuteTime": {
     "end_time": "2023-12-01T13:52:27.529045Z",
     "start_time": "2023-12-01T13:52:27.523628Z"
    },
    "hidden": true
   },
   "outputs": [],
   "source": [
    "X_train,x_val, y_train, y_val = ms.train_test_split(X_train,y_train, test_size= 0.2)"
   ]
  },
  {
   "cell_type": "code",
   "execution_count": 147,
   "id": "04d77123",
   "metadata": {
    "ExecuteTime": {
     "end_time": "2023-12-01T14:15:52.191498Z",
     "start_time": "2023-12-01T14:15:51.375837Z"
    },
    "hidden": true
   },
   "outputs": [
    {
     "data": {
      "image/png": "[encoded data removed]",
      "text/plain": [
       "<Figure size 640x480 with 1 Axes>"
      ]
     },
     "metadata": {},
     "output_type": "display_data"
    }
   ],
   "source": [
    "#tuning\n",
    "values = [i for i in range(1,20)]\n",
    "val_score = list()\n",
    "for i in values:\n",
    "    model = tr.DecisionTreeClassifier(max_depth=i)\n",
    "    model.fit(X_train,y_train)\n",
    "    \n",
    "    yhat_val = model.predict(x_val)\n",
    "    acc_val = mt.accuracy_score(y_val,yhat_val)\n",
    "    val_score.append(acc_val)\n",
    "plt.plot(values, val_score, '-o', label = 'Val');"
   ]
  },
  {
   "cell_type": "code",
   "execution_count": 153,
   "id": "2dd9edb1",
   "metadata": {
    "ExecuteTime": {
     "end_time": "2023-12-01T14:25:20.195070Z",
     "start_time": "2023-12-01T14:25:20.162390Z"
    },
    "hidden": true
   },
   "outputs": [
    {
     "name": "stdout",
     "output_type": "stream",
     "text": [
      "Accuracy over vailation 0.91650390625\n"
     ]
    }
   ],
   "source": [
    "model = tr.DecisionTreeClassifier( max_depth = 5 )\n",
    "model.fit(X_train, y_train)\n",
    "yhat_val = model.predict(x_val)\n",
    "acc_val = mt.accuracy_score(y_val,yhat_val)\n",
    "print(f\"Accuracy over vailation {acc_val}\")"
   ]
  },
  {
   "cell_type": "code",
   "execution_count": 151,
   "id": "a28ccfba",
   "metadata": {
    "ExecuteTime": {
     "end_time": "2023-12-01T14:17:43.717134Z",
     "start_time": "2023-12-01T14:17:43.680664Z"
    },
    "hidden": true
   },
   "outputs": [
    {
     "data": {
      "text/plain": [
       "0.9103125"
      ]
     },
     "execution_count": 151,
     "metadata": {},
     "output_type": "execute_result"
    }
   ],
   "source": [
    "#model trained with train + validate\n",
    "model_last = tr.DecisionTreeClassifier(max_depth=5)\n",
    "model_last.fit(np.concatenate((X_train,x_val)),\n",
    "               np.concatenate((y_train,y_val)))\n",
    "yhat_test = model_last.predict(x_test)\n",
    "acc_test = mt.accuracy_score(y_test,yhat_test)\n",
    "acc_test"
   ]
  },
  {
   "cell_type": "code",
   "execution_count": 152,
   "id": "07d80d5c",
   "metadata": {
    "ExecuteTime": {
     "end_time": "2023-12-01T14:17:50.119817Z",
     "start_time": "2023-12-01T14:17:50.112708Z"
    },
    "hidden": true
   },
   "outputs": [
    {
     "data": {
      "text/plain": [
       "0.911"
      ]
     },
     "execution_count": 152,
     "metadata": {},
     "output_type": "execute_result"
    }
   ],
   "source": [
    "yhat_prod = model_last.predict(X_prod)\n",
    "acc_prod = mt.accuracy_score(y_prod,yhat_prod)\n",
    "acc_prod"
   ]
  },
  {
   "cell_type": "code",
   "execution_count": 154,
   "id": "657639a4",
   "metadata": {
    "ExecuteTime": {
     "end_time": "2023-12-01T14:27:26.468677Z",
     "start_time": "2023-12-01T14:27:26.464197Z"
    },
    "hidden": true
   },
   "outputs": [
    {
     "name": "stdout",
     "output_type": "stream",
     "text": [
      "Accuracy of model on validations data is 0.91650390625\n",
      "Accuracy of model on test data is 0.9103125\n",
      "Accuracy of model on new data is 0.911\n"
     ]
    }
   ],
   "source": [
    "print('Accuracy of model on validations data is {}'.format(acc_val))\n",
    "print('Accuracy of model on test data is {}'.format(acc_test))\n",
    "print('Accuracy of model on new data is {}'.format(acc_prod))"
   ]
  },
  {
   "cell_type": "code",
   "execution_count": null,
   "id": "2a19b1e5",
   "metadata": {
    "hidden": true
   },
   "outputs": [],
   "source": []
  }
 ],
 "metadata": {
  "kernelspec": {
   "display_name": "Python 3 (ipykernel)",
   "language": "python",
   "name": "python3"
  },
  "language_info": {
   "codemirror_mode": {
    "name": "ipython",
    "version": 3
   },
   "file_extension": ".py",
   "mimetype": "text/x-python",
   "name": "python",
   "nbconvert_exporter": "python",
   "pygments_lexer": "ipython3",
   "version": "3.12.0"
  }
 },
 "nbformat": 4,
 "nbformat_minor": 5
}
